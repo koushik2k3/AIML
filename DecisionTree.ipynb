{
 "cells": [
  {
   "cell_type": "code",
   "execution_count": 2,
   "metadata": {},
   "outputs": [
    {
     "name": "stdout",
     "output_type": "stream",
     "text": [
      "**Recommended Item:** Enchanted Amulet of Wisdom\n",
      "**Explanation:** Enhances magical abilities and mental acuity, empowering spells and strategic thinking.\n"
     ]
    }
   ],
   "source": [
    "# Item dictionary\n",
    "items = {\n",
    "    \"Dragon Scale Armor\": {\n",
    "        \"type\": \"Armor\",\n",
    "        \"price\": \"High\",\n",
    "        \"character_type\": \"Warrior\",\n",
    "        \"gameplay_style\": \"Defensive\",\n",
    "        \"explanation\": \"Unparalleled protection, ensuring you can withstand heavy blows in battle.\"\n",
    "    },\n",
    "    \"Elven Potion of Speed\": {\n",
    "        \"type\": \"Potion\",\n",
    "        \"price\": \"Medium\",\n",
    "        \"character_type\": \"Rogue\",\n",
    "        \"gameplay_style\": \"Offensive\",\n",
    "        \"explanation\": \"Grants temporary haste, ideal for swift attacks and tactical maneuvers.\"\n",
    "    },\n",
    "    \"Enchanted Amulet of Wisdom\": {\n",
    "        \"type\": \"Accessory\",\n",
    "        \"price\": \"Medium\",\n",
    "        \"character_type\": \"Mage\",\n",
    "        \"gameplay_style\": \"Supportive\",\n",
    "        \"explanation\": \"Enhances magical abilities and mental acuity, empowering spells and strategic thinking.\"\n",
    "    },\n",
    "    \"Cloak of Shadows\": {\n",
    "        \"type\": \"Armor\",\n",
    "        \"price\": \"Medium\",\n",
    "        \"character_type\": \"Rogue\",\n",
    "        \"gameplay_style\": \"Stealthy\",\n",
    "        \"explanation\": \"Blends you into darkness, enabling stealthy movement and surprise attacks.\"\n",
    "    },\n",
    "}\n",
    "\n",
    "while True:\n",
    "    character_type = input(\"Choose your character type (Warrior, Mage, Rogue, Healer): \").capitalize()\n",
    "    if character_type in [\"Warrior\", \"Mage\", \"Rogue\", \"Healer\"]:\n",
    "        break\n",
    "    else:\n",
    "        print(\"Invalid character type. Please choose from Warrior, Mage, Rogue, or Healer.\")\n",
    "\n",
    "while True:\n",
    "    gameplay_style = input(\"Choose your desired gameplay style (Offensive, Defensive, Stealthy, Supportive): \").capitalize()\n",
    "    if gameplay_style in [\"Offensive\", \"Defensive\", \"Stealthy\", \"Supportive\"]:\n",
    "        break\n",
    "    else:\n",
    "        print(\"Invalid gameplay style. Please choose from Offensive, Defensive, Stealthy, or Supportive.\")\n",
    "\n",
    "# Define decision tree logic\n",
    "def recommend_item(character_type, gameplay_style):\n",
    "    if character_type == \"Warrior\":\n",
    "        if gameplay_style == \"Offensive\":\n",
    "            return \"Dragon Scale Armor\"\n",
    "        else:\n",
    "            return \"Enchanted Amulet of Wisdom\"\n",
    "    elif character_type == \"Mage\":\n",
    "        if gameplay_style == \"Supportive\":\n",
    "            return \"Enchanted Amulet of Wisdom\"\n",
    "        else:\n",
    "            return \"Elven Potion of Speed\"\n",
    "    elif character_type == \"Rogue\":\n",
    "        if gameplay_style == \"Stealthy\":\n",
    "            return \"Cloak of Shadows\"\n",
    "        else:\n",
    "            return \"Elven Potion of Speed\"\n",
    "    else:  # Healer\n",
    "        if gameplay_style == \"Offensive\":\n",
    "            return \"Staff of Healing\"  # Assuming a weapon for offensive healers\n",
    "        else:\n",
    "            return \"Enchanted Amulet of Wisdom\"  # Assuming supportive focus for other healer styles\n",
    "\n",
    "# Get recommended item and explanation\n",
    "recommended_item = recommend_item(character_type, gameplay_style)\n",
    "recommended_item_details = items[recommended_item]\n",
    "print(f\"**Recommended Item:** {recommended_item}\")\n",
    "print(f\"**Explanation:** {recommended_item_details['explanation']}\")\n"
   ]
  },
  {
   "cell_type": "code",
   "execution_count": null,
   "metadata": {},
   "outputs": [],
   "source": []
  }
 ],
 "metadata": {
  "kernelspec": {
   "display_name": "base",
   "language": "python",
   "name": "python3"
  },
  "language_info": {
   "codemirror_mode": {
    "name": "ipython",
    "version": 3
   },
   "file_extension": ".py",
   "mimetype": "text/x-python",
   "name": "python",
   "nbconvert_exporter": "python",
   "pygments_lexer": "ipython3",
   "version": "3.9.12"
  }
 },
 "nbformat": 4,
 "nbformat_minor": 2
}
