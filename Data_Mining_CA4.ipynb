{
  "cells": [
    {
      "cell_type": "code",
      "execution_count": 2,
      "metadata": {
        "id": "KQDqKh9l74kA",
        "vscode": {
          "languageId": "r"
        }
      },
      "outputs": [],
      "source": [
        "df <- read.csv('/content/Pokemon.csv')\n"
      ]
    },
    {
      "cell_type": "code",
      "execution_count": 11,
      "metadata": {
        "colab": {
          "base_uri": "https://localhost:8080/",
          "height": 286
        },
        "id": "-vN_tbrS8mNq",
        "outputId": "37c2ebcc-73b0-4c41-89fd-d18cb449b7d9",
        "vscode": {
          "languageId": "r"
        }
      },
      "outputs": [
        {
          "data": {
            "text/html": [
              "<table class=\"dataframe\">\n",
              "<caption>A data.frame: 6 × 13</caption>\n",
              "<thead>\n",
              "\t<tr><th></th><th scope=col>X.</th><th scope=col>Name</th><th scope=col>Type.1</th><th scope=col>Type.2</th><th scope=col>Total</th><th scope=col>HP</th><th scope=col>Attack</th><th scope=col>Defense</th><th scope=col>Sp..Atk</th><th scope=col>Sp..Def</th><th scope=col>Speed</th><th scope=col>Generation</th><th scope=col>Legendary</th></tr>\n",
              "\t<tr><th></th><th scope=col>&lt;int&gt;</th><th scope=col>&lt;chr&gt;</th><th scope=col>&lt;chr&gt;</th><th scope=col>&lt;chr&gt;</th><th scope=col>&lt;int&gt;</th><th scope=col>&lt;int&gt;</th><th scope=col>&lt;int&gt;</th><th scope=col>&lt;int&gt;</th><th scope=col>&lt;int&gt;</th><th scope=col>&lt;int&gt;</th><th scope=col>&lt;int&gt;</th><th scope=col>&lt;int&gt;</th><th scope=col>&lt;chr&gt;</th></tr>\n",
              "</thead>\n",
              "<tbody>\n",
              "\t<tr><th scope=row>795</th><td>718</td><td>Zygarde50% Forme   </td><td>Dragon </td><td>Ground</td><td>600</td><td>108</td><td>100</td><td>121</td><td> 81</td><td> 95</td><td> 95</td><td>6</td><td>True</td></tr>\n",
              "\t<tr><th scope=row>796</th><td>719</td><td>Diancie            </td><td>Rock   </td><td>Fairy </td><td>600</td><td> 50</td><td>100</td><td>150</td><td>100</td><td>150</td><td> 50</td><td>6</td><td>True</td></tr>\n",
              "\t<tr><th scope=row>797</th><td>719</td><td>DiancieMega Diancie</td><td>Rock   </td><td>Fairy </td><td>700</td><td> 50</td><td>160</td><td>110</td><td>160</td><td>110</td><td>110</td><td>6</td><td>True</td></tr>\n",
              "\t<tr><th scope=row>798</th><td>720</td><td>HoopaHoopa Confined</td><td>Psychic</td><td>Ghost </td><td>600</td><td> 80</td><td>110</td><td> 60</td><td>150</td><td>130</td><td> 70</td><td>6</td><td>True</td></tr>\n",
              "\t<tr><th scope=row>799</th><td>720</td><td>HoopaHoopa Unbound </td><td>Psychic</td><td>Dark  </td><td>680</td><td> 80</td><td>160</td><td> 60</td><td>170</td><td>130</td><td> 80</td><td>6</td><td>True</td></tr>\n",
              "\t<tr><th scope=row>800</th><td>721</td><td>Volcanion          </td><td>Fire   </td><td>Water </td><td>600</td><td> 80</td><td>110</td><td>120</td><td>130</td><td> 90</td><td> 70</td><td>6</td><td>True</td></tr>\n",
              "</tbody>\n",
              "</table>\n"
            ],
            "text/latex": [
              "A data.frame: 6 × 13\n",
              "\\begin{tabular}{r|lllllllllllll}\n",
              "  & X. & Name & Type.1 & Type.2 & Total & HP & Attack & Defense & Sp..Atk & Sp..Def & Speed & Generation & Legendary\\\\\n",
              "  & <int> & <chr> & <chr> & <chr> & <int> & <int> & <int> & <int> & <int> & <int> & <int> & <int> & <chr>\\\\\n",
              "\\hline\n",
              "\t795 & 718 & Zygarde50\\% Forme    & Dragon  & Ground & 600 & 108 & 100 & 121 &  81 &  95 &  95 & 6 & True\\\\\n",
              "\t796 & 719 & Diancie             & Rock    & Fairy  & 600 &  50 & 100 & 150 & 100 & 150 &  50 & 6 & True\\\\\n",
              "\t797 & 719 & DiancieMega Diancie & Rock    & Fairy  & 700 &  50 & 160 & 110 & 160 & 110 & 110 & 6 & True\\\\\n",
              "\t798 & 720 & HoopaHoopa Confined & Psychic & Ghost  & 600 &  80 & 110 &  60 & 150 & 130 &  70 & 6 & True\\\\\n",
              "\t799 & 720 & HoopaHoopa Unbound  & Psychic & Dark   & 680 &  80 & 160 &  60 & 170 & 130 &  80 & 6 & True\\\\\n",
              "\t800 & 721 & Volcanion           & Fire    & Water  & 600 &  80 & 110 & 120 & 130 &  90 &  70 & 6 & True\\\\\n",
              "\\end{tabular}\n"
            ],
            "text/markdown": [
              "\n",
              "A data.frame: 6 × 13\n",
              "\n",
              "| <!--/--> | X. &lt;int&gt; | Name &lt;chr&gt; | Type.1 &lt;chr&gt; | Type.2 &lt;chr&gt; | Total &lt;int&gt; | HP &lt;int&gt; | Attack &lt;int&gt; | Defense &lt;int&gt; | Sp..Atk &lt;int&gt; | Sp..Def &lt;int&gt; | Speed &lt;int&gt; | Generation &lt;int&gt; | Legendary &lt;chr&gt; |\n",
              "|---|---|---|---|---|---|---|---|---|---|---|---|---|---|\n",
              "| 795 | 718 | Zygarde50% Forme    | Dragon  | Ground | 600 | 108 | 100 | 121 |  81 |  95 |  95 | 6 | True |\n",
              "| 796 | 719 | Diancie             | Rock    | Fairy  | 600 |  50 | 100 | 150 | 100 | 150 |  50 | 6 | True |\n",
              "| 797 | 719 | DiancieMega Diancie | Rock    | Fairy  | 700 |  50 | 160 | 110 | 160 | 110 | 110 | 6 | True |\n",
              "| 798 | 720 | HoopaHoopa Confined | Psychic | Ghost  | 600 |  80 | 110 |  60 | 150 | 130 |  70 | 6 | True |\n",
              "| 799 | 720 | HoopaHoopa Unbound  | Psychic | Dark   | 680 |  80 | 160 |  60 | 170 | 130 |  80 | 6 | True |\n",
              "| 800 | 721 | Volcanion           | Fire    | Water  | 600 |  80 | 110 | 120 | 130 |  90 |  70 | 6 | True |\n",
              "\n"
            ],
            "text/plain": [
              "    X.  Name                Type.1  Type.2 Total HP  Attack Defense Sp..Atk\n",
              "795 718 Zygarde50% Forme    Dragon  Ground 600   108 100    121      81    \n",
              "796 719 Diancie             Rock    Fairy  600    50 100    150     100    \n",
              "797 719 DiancieMega Diancie Rock    Fairy  700    50 160    110     160    \n",
              "798 720 HoopaHoopa Confined Psychic Ghost  600    80 110     60     150    \n",
              "799 720 HoopaHoopa Unbound  Psychic Dark   680    80 160     60     170    \n",
              "800 721 Volcanion           Fire    Water  600    80 110    120     130    \n",
              "    Sp..Def Speed Generation Legendary\n",
              "795  95      95   6          True     \n",
              "796 150      50   6          True     \n",
              "797 110     110   6          True     \n",
              "798 130      70   6          True     \n",
              "799 130      80   6          True     \n",
              "800  90      70   6          True     "
            ]
          },
          "metadata": {},
          "output_type": "display_data"
        }
      ],
      "source": [
        "tail(df)"
      ]
    },
    {
      "cell_type": "code",
      "execution_count": 5,
      "metadata": {
        "colab": {
          "base_uri": "https://localhost:8080/"
        },
        "id": "yYiOtBe48rRF",
        "outputId": "b1be31cd-ba27-4c08-f337-e4e7f8543f91",
        "vscode": {
          "languageId": "r"
        }
      },
      "outputs": [
        {
          "name": "stdout",
          "output_type": "stream",
          "text": [
            "        X.       Name     Type.1     Type.2      Total         HP     Attack \n",
            "         0          0          0          0          0          0          0 \n",
            "   Defense    Sp..Atk    Sp..Def      Speed Generation  Legendary \n",
            "         0          0          0          0          0          0 \n"
          ]
        }
      ],
      "source": [
        "missing_counts <- colSums(is.na(df))\n",
        "print(missing_counts)\n"
      ]
    },
    {
      "cell_type": "code",
      "execution_count": 14,
      "metadata": {
        "colab": {
          "base_uri": "https://localhost:8080/",
          "height": 303
        },
        "id": "6O3VeiXR82t7",
        "outputId": "4b5fbf91-8b98-40c8-b67a-45e55e3f08e8",
        "vscode": {
          "languageId": "r"
        }
      },
      "outputs": [
        {
          "name": "stdout",
          "output_type": "stream",
          "text": [
            "[1] 65 13\n"
          ]
        },
        {
          "data": {
            "text/html": [
              "<table class=\"dataframe\">\n",
              "<caption>A data.frame: 6 × 13</caption>\n",
              "<thead>\n",
              "\t<tr><th></th><th scope=col>X.</th><th scope=col>Name</th><th scope=col>Type.1</th><th scope=col>Type.2</th><th scope=col>Total</th><th scope=col>HP</th><th scope=col>Attack</th><th scope=col>Defense</th><th scope=col>Sp..Atk</th><th scope=col>Sp..Def</th><th scope=col>Speed</th><th scope=col>Generation</th><th scope=col>Legendary</th></tr>\n",
              "\t<tr><th></th><th scope=col>&lt;int&gt;</th><th scope=col>&lt;chr&gt;</th><th scope=col>&lt;chr&gt;</th><th scope=col>&lt;chr&gt;</th><th scope=col>&lt;int&gt;</th><th scope=col>&lt;int&gt;</th><th scope=col>&lt;int&gt;</th><th scope=col>&lt;int&gt;</th><th scope=col>&lt;int&gt;</th><th scope=col>&lt;int&gt;</th><th scope=col>&lt;int&gt;</th><th scope=col>&lt;int&gt;</th><th scope=col>&lt;chr&gt;</th></tr>\n",
              "</thead>\n",
              "<tbody>\n",
              "\t<tr><th scope=row>157</th><td>144</td><td>Articuno           </td><td>Ice     </td><td>Flying  </td><td>580</td><td> 90</td><td> 85</td><td>100</td><td> 95</td><td>125</td><td> 85</td><td>1</td><td>True</td></tr>\n",
              "\t<tr><th scope=row>158</th><td>145</td><td>Zapdos             </td><td>Electric</td><td>Flying  </td><td>580</td><td> 90</td><td> 90</td><td> 85</td><td>125</td><td> 90</td><td>100</td><td>1</td><td>True</td></tr>\n",
              "\t<tr><th scope=row>159</th><td>146</td><td>Moltres            </td><td>Fire    </td><td>Flying  </td><td>580</td><td> 90</td><td>100</td><td> 90</td><td>125</td><td> 85</td><td> 90</td><td>1</td><td>True</td></tr>\n",
              "\t<tr><th scope=row>163</th><td>150</td><td>Mewtwo             </td><td>Psychic </td><td>        </td><td>680</td><td>106</td><td>110</td><td> 90</td><td>154</td><td> 90</td><td>130</td><td>1</td><td>True</td></tr>\n",
              "\t<tr><th scope=row>164</th><td>150</td><td>MewtwoMega Mewtwo X</td><td>Psychic </td><td>Fighting</td><td>780</td><td>106</td><td>190</td><td>100</td><td>154</td><td>100</td><td>130</td><td>1</td><td>True</td></tr>\n",
              "\t<tr><th scope=row>165</th><td>150</td><td>MewtwoMega Mewtwo Y</td><td>Psychic </td><td>        </td><td>780</td><td>106</td><td>150</td><td> 70</td><td>194</td><td>120</td><td>140</td><td>1</td><td>True</td></tr>\n",
              "</tbody>\n",
              "</table>\n"
            ],
            "text/latex": [
              "A data.frame: 6 × 13\n",
              "\\begin{tabular}{r|lllllllllllll}\n",
              "  & X. & Name & Type.1 & Type.2 & Total & HP & Attack & Defense & Sp..Atk & Sp..Def & Speed & Generation & Legendary\\\\\n",
              "  & <int> & <chr> & <chr> & <chr> & <int> & <int> & <int> & <int> & <int> & <int> & <int> & <int> & <chr>\\\\\n",
              "\\hline\n",
              "\t157 & 144 & Articuno            & Ice      & Flying   & 580 &  90 &  85 & 100 &  95 & 125 &  85 & 1 & True\\\\\n",
              "\t158 & 145 & Zapdos              & Electric & Flying   & 580 &  90 &  90 &  85 & 125 &  90 & 100 & 1 & True\\\\\n",
              "\t159 & 146 & Moltres             & Fire     & Flying   & 580 &  90 & 100 &  90 & 125 &  85 &  90 & 1 & True\\\\\n",
              "\t163 & 150 & Mewtwo              & Psychic  &          & 680 & 106 & 110 &  90 & 154 &  90 & 130 & 1 & True\\\\\n",
              "\t164 & 150 & MewtwoMega Mewtwo X & Psychic  & Fighting & 780 & 106 & 190 & 100 & 154 & 100 & 130 & 1 & True\\\\\n",
              "\t165 & 150 & MewtwoMega Mewtwo Y & Psychic  &          & 780 & 106 & 150 &  70 & 194 & 120 & 140 & 1 & True\\\\\n",
              "\\end{tabular}\n"
            ],
            "text/markdown": [
              "\n",
              "A data.frame: 6 × 13\n",
              "\n",
              "| <!--/--> | X. &lt;int&gt; | Name &lt;chr&gt; | Type.1 &lt;chr&gt; | Type.2 &lt;chr&gt; | Total &lt;int&gt; | HP &lt;int&gt; | Attack &lt;int&gt; | Defense &lt;int&gt; | Sp..Atk &lt;int&gt; | Sp..Def &lt;int&gt; | Speed &lt;int&gt; | Generation &lt;int&gt; | Legendary &lt;chr&gt; |\n",
              "|---|---|---|---|---|---|---|---|---|---|---|---|---|---|\n",
              "| 157 | 144 | Articuno            | Ice      | Flying   | 580 |  90 |  85 | 100 |  95 | 125 |  85 | 1 | True |\n",
              "| 158 | 145 | Zapdos              | Electric | Flying   | 580 |  90 |  90 |  85 | 125 |  90 | 100 | 1 | True |\n",
              "| 159 | 146 | Moltres             | Fire     | Flying   | 580 |  90 | 100 |  90 | 125 |  85 |  90 | 1 | True |\n",
              "| 163 | 150 | Mewtwo              | Psychic  | <!----> | 680 | 106 | 110 |  90 | 154 |  90 | 130 | 1 | True |\n",
              "| 164 | 150 | MewtwoMega Mewtwo X | Psychic  | Fighting | 780 | 106 | 190 | 100 | 154 | 100 | 130 | 1 | True |\n",
              "| 165 | 150 | MewtwoMega Mewtwo Y | Psychic  | <!----> | 780 | 106 | 150 |  70 | 194 | 120 | 140 | 1 | True |\n",
              "\n"
            ],
            "text/plain": [
              "    X.  Name                Type.1   Type.2   Total HP  Attack Defense Sp..Atk\n",
              "157 144 Articuno            Ice      Flying   580    90  85    100      95    \n",
              "158 145 Zapdos              Electric Flying   580    90  90     85     125    \n",
              "159 146 Moltres             Fire     Flying   580    90 100     90     125    \n",
              "163 150 Mewtwo              Psychic           680   106 110     90     154    \n",
              "164 150 MewtwoMega Mewtwo X Psychic  Fighting 780   106 190    100     154    \n",
              "165 150 MewtwoMega Mewtwo Y Psychic           780   106 150     70     194    \n",
              "    Sp..Def Speed Generation Legendary\n",
              "157 125      85   1          True     \n",
              "158  90     100   1          True     \n",
              "159  85      90   1          True     \n",
              "163  90     130   1          True     \n",
              "164 100     130   1          True     \n",
              "165 120     140   1          True     "
            ]
          },
          "metadata": {},
          "output_type": "display_data"
        }
      ],
      "source": [
        "library(dplyr)\n",
        "\n",
        "legendary <- df[df$Legendary == 'True', ]\n",
        "\n",
        "print(dim(legendary))\n",
        "head(legendary)\n"
      ]
    },
    {
      "cell_type": "code",
      "execution_count": 15,
      "metadata": {
        "colab": {
          "base_uri": "https://localhost:8080/",
          "height": 303
        },
        "id": "0K6M6lMF9CaZ",
        "outputId": "128cdc3f-29f8-4424-87de-7d3c9155989f",
        "vscode": {
          "languageId": "r"
        }
      },
      "outputs": [
        {
          "name": "stdout",
          "output_type": "stream",
          "text": [
            "[1] 735  13\n"
          ]
        },
        {
          "data": {
            "text/html": [
              "<table class=\"dataframe\">\n",
              "<caption>A data.frame: 6 × 13</caption>\n",
              "<thead>\n",
              "\t<tr><th></th><th scope=col>X.</th><th scope=col>Name</th><th scope=col>Type.1</th><th scope=col>Type.2</th><th scope=col>Total</th><th scope=col>HP</th><th scope=col>Attack</th><th scope=col>Defense</th><th scope=col>Sp..Atk</th><th scope=col>Sp..Def</th><th scope=col>Speed</th><th scope=col>Generation</th><th scope=col>Legendary</th></tr>\n",
              "\t<tr><th></th><th scope=col>&lt;int&gt;</th><th scope=col>&lt;chr&gt;</th><th scope=col>&lt;chr&gt;</th><th scope=col>&lt;chr&gt;</th><th scope=col>&lt;int&gt;</th><th scope=col>&lt;int&gt;</th><th scope=col>&lt;int&gt;</th><th scope=col>&lt;int&gt;</th><th scope=col>&lt;int&gt;</th><th scope=col>&lt;int&gt;</th><th scope=col>&lt;int&gt;</th><th scope=col>&lt;int&gt;</th><th scope=col>&lt;chr&gt;</th></tr>\n",
              "</thead>\n",
              "<tbody>\n",
              "\t<tr><th scope=row>1</th><td>1</td><td>Bulbasaur            </td><td>Grass</td><td>Poison</td><td>318</td><td>45</td><td> 49</td><td> 49</td><td> 65</td><td> 65</td><td>45</td><td>1</td><td>False</td></tr>\n",
              "\t<tr><th scope=row>2</th><td>2</td><td>Ivysaur              </td><td>Grass</td><td>Poison</td><td>405</td><td>60</td><td> 62</td><td> 63</td><td> 80</td><td> 80</td><td>60</td><td>1</td><td>False</td></tr>\n",
              "\t<tr><th scope=row>3</th><td>3</td><td>Venusaur             </td><td>Grass</td><td>Poison</td><td>525</td><td>80</td><td> 82</td><td> 83</td><td>100</td><td>100</td><td>80</td><td>1</td><td>False</td></tr>\n",
              "\t<tr><th scope=row>4</th><td>3</td><td>VenusaurMega Venusaur</td><td>Grass</td><td>Poison</td><td>625</td><td>80</td><td>100</td><td>123</td><td>122</td><td>120</td><td>80</td><td>1</td><td>False</td></tr>\n",
              "\t<tr><th scope=row>5</th><td>4</td><td>Charmander           </td><td>Fire </td><td>      </td><td>309</td><td>39</td><td> 52</td><td> 43</td><td> 60</td><td> 50</td><td>65</td><td>1</td><td>False</td></tr>\n",
              "\t<tr><th scope=row>6</th><td>5</td><td>Charmeleon           </td><td>Fire </td><td>      </td><td>405</td><td>58</td><td> 64</td><td> 58</td><td> 80</td><td> 65</td><td>80</td><td>1</td><td>False</td></tr>\n",
              "</tbody>\n",
              "</table>\n"
            ],
            "text/latex": [
              "A data.frame: 6 × 13\n",
              "\\begin{tabular}{r|lllllllllllll}\n",
              "  & X. & Name & Type.1 & Type.2 & Total & HP & Attack & Defense & Sp..Atk & Sp..Def & Speed & Generation & Legendary\\\\\n",
              "  & <int> & <chr> & <chr> & <chr> & <int> & <int> & <int> & <int> & <int> & <int> & <int> & <int> & <chr>\\\\\n",
              "\\hline\n",
              "\t1 & 1 & Bulbasaur             & Grass & Poison & 318 & 45 &  49 &  49 &  65 &  65 & 45 & 1 & False\\\\\n",
              "\t2 & 2 & Ivysaur               & Grass & Poison & 405 & 60 &  62 &  63 &  80 &  80 & 60 & 1 & False\\\\\n",
              "\t3 & 3 & Venusaur              & Grass & Poison & 525 & 80 &  82 &  83 & 100 & 100 & 80 & 1 & False\\\\\n",
              "\t4 & 3 & VenusaurMega Venusaur & Grass & Poison & 625 & 80 & 100 & 123 & 122 & 120 & 80 & 1 & False\\\\\n",
              "\t5 & 4 & Charmander            & Fire  &        & 309 & 39 &  52 &  43 &  60 &  50 & 65 & 1 & False\\\\\n",
              "\t6 & 5 & Charmeleon            & Fire  &        & 405 & 58 &  64 &  58 &  80 &  65 & 80 & 1 & False\\\\\n",
              "\\end{tabular}\n"
            ],
            "text/markdown": [
              "\n",
              "A data.frame: 6 × 13\n",
              "\n",
              "| <!--/--> | X. &lt;int&gt; | Name &lt;chr&gt; | Type.1 &lt;chr&gt; | Type.2 &lt;chr&gt; | Total &lt;int&gt; | HP &lt;int&gt; | Attack &lt;int&gt; | Defense &lt;int&gt; | Sp..Atk &lt;int&gt; | Sp..Def &lt;int&gt; | Speed &lt;int&gt; | Generation &lt;int&gt; | Legendary &lt;chr&gt; |\n",
              "|---|---|---|---|---|---|---|---|---|---|---|---|---|---|\n",
              "| 1 | 1 | Bulbasaur             | Grass | Poison | 318 | 45 |  49 |  49 |  65 |  65 | 45 | 1 | False |\n",
              "| 2 | 2 | Ivysaur               | Grass | Poison | 405 | 60 |  62 |  63 |  80 |  80 | 60 | 1 | False |\n",
              "| 3 | 3 | Venusaur              | Grass | Poison | 525 | 80 |  82 |  83 | 100 | 100 | 80 | 1 | False |\n",
              "| 4 | 3 | VenusaurMega Venusaur | Grass | Poison | 625 | 80 | 100 | 123 | 122 | 120 | 80 | 1 | False |\n",
              "| 5 | 4 | Charmander            | Fire  | <!----> | 309 | 39 |  52 |  43 |  60 |  50 | 65 | 1 | False |\n",
              "| 6 | 5 | Charmeleon            | Fire  | <!----> | 405 | 58 |  64 |  58 |  80 |  65 | 80 | 1 | False |\n",
              "\n"
            ],
            "text/plain": [
              "  X. Name                  Type.1 Type.2 Total HP Attack Defense Sp..Atk\n",
              "1 1  Bulbasaur             Grass  Poison 318   45  49     49      65    \n",
              "2 2  Ivysaur               Grass  Poison 405   60  62     63      80    \n",
              "3 3  Venusaur              Grass  Poison 525   80  82     83     100    \n",
              "4 3  VenusaurMega Venusaur Grass  Poison 625   80 100    123     122    \n",
              "5 4  Charmander            Fire          309   39  52     43      60    \n",
              "6 5  Charmeleon            Fire          405   58  64     58      80    \n",
              "  Sp..Def Speed Generation Legendary\n",
              "1  65     45    1          False    \n",
              "2  80     60    1          False    \n",
              "3 100     80    1          False    \n",
              "4 120     80    1          False    \n",
              "5  50     65    1          False    \n",
              "6  65     80    1          False    "
            ]
          },
          "metadata": {},
          "output_type": "display_data"
        }
      ],
      "source": [
        "legendary <- df[df$Legendary == 'False', ]\n",
        "\n",
        "print(dim(legendary))\n",
        "head(legendary)"
      ]
    },
    {
      "cell_type": "code",
      "execution_count": 18,
      "metadata": {
        "colab": {
          "base_uri": "https://localhost:8080/",
          "height": 34
        },
        "id": "-bbawAhd9o_t",
        "outputId": "98ba0571-af33-43e3-a438-682713e11a1b",
        "vscode": {
          "languageId": "r"
        }
      },
      "outputs": [
        {
          "data": {
            "text/html": [
              "<style>\n",
              ".list-inline {list-style: none; margin:0; padding: 0}\n",
              ".list-inline>li {display: inline-block}\n",
              ".list-inline>li:not(:last-child)::after {content: \"\\00b7\"; padding: 0 .5ex}\n",
              "</style>\n",
              "<ol class=list-inline><li>'Grass'</li><li>'Fire'</li><li>'Water'</li><li>'Bug'</li><li>'Normal'</li><li>'Poison'</li><li>'Electric'</li><li>'Ground'</li><li>'Fairy'</li><li>'Fighting'</li><li>'Psychic'</li><li>'Rock'</li><li>'Ghost'</li><li>'Ice'</li><li>'Dragon'</li><li>'Dark'</li><li>'Steel'</li><li>'Flying'</li></ol>\n"
            ],
            "text/latex": [
              "\\begin{enumerate*}\n",
              "\\item 'Grass'\n",
              "\\item 'Fire'\n",
              "\\item 'Water'\n",
              "\\item 'Bug'\n",
              "\\item 'Normal'\n",
              "\\item 'Poison'\n",
              "\\item 'Electric'\n",
              "\\item 'Ground'\n",
              "\\item 'Fairy'\n",
              "\\item 'Fighting'\n",
              "\\item 'Psychic'\n",
              "\\item 'Rock'\n",
              "\\item 'Ghost'\n",
              "\\item 'Ice'\n",
              "\\item 'Dragon'\n",
              "\\item 'Dark'\n",
              "\\item 'Steel'\n",
              "\\item 'Flying'\n",
              "\\end{enumerate*}\n"
            ],
            "text/markdown": [
              "1. 'Grass'\n",
              "2. 'Fire'\n",
              "3. 'Water'\n",
              "4. 'Bug'\n",
              "5. 'Normal'\n",
              "6. 'Poison'\n",
              "7. 'Electric'\n",
              "8. 'Ground'\n",
              "9. 'Fairy'\n",
              "10. 'Fighting'\n",
              "11. 'Psychic'\n",
              "12. 'Rock'\n",
              "13. 'Ghost'\n",
              "14. 'Ice'\n",
              "15. 'Dragon'\n",
              "16. 'Dark'\n",
              "17. 'Steel'\n",
              "18. 'Flying'\n",
              "\n",
              "\n"
            ],
            "text/plain": [
              " [1] \"Grass\"    \"Fire\"     \"Water\"    \"Bug\"      \"Normal\"   \"Poison\"  \n",
              " [7] \"Electric\" \"Ground\"   \"Fairy\"    \"Fighting\" \"Psychic\"  \"Rock\"    \n",
              "[13] \"Ghost\"    \"Ice\"      \"Dragon\"   \"Dark\"     \"Steel\"    \"Flying\"  "
            ]
          },
          "metadata": {},
          "output_type": "display_data"
        }
      ],
      "source": [
        "types <- unique(df$Type.1)\n",
        "types"
      ]
    },
    {
      "cell_type": "code",
      "execution_count": 24,
      "metadata": {
        "id": "9Ol8J3vj9t7R",
        "vscode": {
          "languageId": "r"
        }
      },
      "outputs": [],
      "source": [
        "# Assuming you have already loaded the necessary library (e.g., dplyr)\n",
        "library(dplyr)\n",
        "\n",
        "# Create a new column \"Name_nospace\"\n",
        "df <- df %>% mutate(Name_nospace = gsub(\" \", \"\", Name))\n"
      ]
    },
    {
      "cell_type": "code",
      "execution_count": 25,
      "metadata": {
        "id": "ulPIwDrI91bl",
        "vscode": {
          "languageId": "r"
        }
      },
      "outputs": [],
      "source": [
        "# Create a new column \"name_count\"\n",
        "df <- df %>% mutate(name_count = nchar(Name_nospace))\n",
        "\n",
        "# Create a new column \"long_name\"\n",
        "df <- df %>% mutate(long_name = name_count >= 10)"
      ]
    },
    {
      "cell_type": "code",
      "execution_count": 28,
      "metadata": {
        "colab": {
          "base_uri": "https://localhost:8080/",
          "height": 323
        },
        "id": "o_Fhz9fo_X6n",
        "outputId": "b1fd0ce1-220e-44dd-d9f4-0f8f7a507bd4",
        "vscode": {
          "languageId": "r"
        }
      },
      "outputs": [
        {
          "data": {
            "text/html": [
              "<table class=\"dataframe\">\n",
              "<caption>A data.frame: 6 × 17</caption>\n",
              "<thead>\n",
              "\t<tr><th></th><th scope=col>X.</th><th scope=col>Name</th><th scope=col>Type.1</th><th scope=col>Type.2</th><th scope=col>Total</th><th scope=col>HP</th><th scope=col>Attack</th><th scope=col>Defense</th><th scope=col>Sp..Atk</th><th scope=col>Sp..Def</th><th scope=col>Speed</th><th scope=col>Generation</th><th scope=col>Legendary</th><th scope=col>Name_nospace</th><th scope=col>name_count</th><th scope=col>long_name</th><th scope=col>name_isalpha</th></tr>\n",
              "\t<tr><th></th><th scope=col>&lt;int&gt;</th><th scope=col>&lt;chr&gt;</th><th scope=col>&lt;chr&gt;</th><th scope=col>&lt;chr&gt;</th><th scope=col>&lt;int&gt;</th><th scope=col>&lt;int&gt;</th><th scope=col>&lt;int&gt;</th><th scope=col>&lt;int&gt;</th><th scope=col>&lt;int&gt;</th><th scope=col>&lt;int&gt;</th><th scope=col>&lt;int&gt;</th><th scope=col>&lt;int&gt;</th><th scope=col>&lt;chr&gt;</th><th scope=col>&lt;chr&gt;</th><th scope=col>&lt;int&gt;</th><th scope=col>&lt;lgl&gt;</th><th scope=col>&lt;lgl&gt;</th></tr>\n",
              "</thead>\n",
              "<tbody>\n",
              "\t<tr><th scope=row>1</th><td>1</td><td>Bulbasaur            </td><td>Grass</td><td>Poison</td><td>318</td><td>45</td><td> 49</td><td> 49</td><td> 65</td><td> 65</td><td>45</td><td>1</td><td>False</td><td>Bulbasaur           </td><td> 9</td><td>FALSE</td><td>TRUE</td></tr>\n",
              "\t<tr><th scope=row>2</th><td>2</td><td>Ivysaur              </td><td>Grass</td><td>Poison</td><td>405</td><td>60</td><td> 62</td><td> 63</td><td> 80</td><td> 80</td><td>60</td><td>1</td><td>False</td><td>Ivysaur             </td><td> 7</td><td>FALSE</td><td>TRUE</td></tr>\n",
              "\t<tr><th scope=row>3</th><td>3</td><td>Venusaur             </td><td>Grass</td><td>Poison</td><td>525</td><td>80</td><td> 82</td><td> 83</td><td>100</td><td>100</td><td>80</td><td>1</td><td>False</td><td>Venusaur            </td><td> 8</td><td>FALSE</td><td>TRUE</td></tr>\n",
              "\t<tr><th scope=row>4</th><td>3</td><td>VenusaurMega Venusaur</td><td>Grass</td><td>Poison</td><td>625</td><td>80</td><td>100</td><td>123</td><td>122</td><td>120</td><td>80</td><td>1</td><td>False</td><td>VenusaurMegaVenusaur</td><td>20</td><td> TRUE</td><td>TRUE</td></tr>\n",
              "\t<tr><th scope=row>5</th><td>4</td><td>Charmander           </td><td>Fire </td><td>      </td><td>309</td><td>39</td><td> 52</td><td> 43</td><td> 60</td><td> 50</td><td>65</td><td>1</td><td>False</td><td>Charmander          </td><td>10</td><td> TRUE</td><td>TRUE</td></tr>\n",
              "\t<tr><th scope=row>6</th><td>5</td><td>Charmeleon           </td><td>Fire </td><td>      </td><td>405</td><td>58</td><td> 64</td><td> 58</td><td> 80</td><td> 65</td><td>80</td><td>1</td><td>False</td><td>Charmeleon          </td><td>10</td><td> TRUE</td><td>TRUE</td></tr>\n",
              "</tbody>\n",
              "</table>\n"
            ],
            "text/latex": [
              "A data.frame: 6 × 17\n",
              "\\begin{tabular}{r|lllllllllllllllll}\n",
              "  & X. & Name & Type.1 & Type.2 & Total & HP & Attack & Defense & Sp..Atk & Sp..Def & Speed & Generation & Legendary & Name\\_nospace & name\\_count & long\\_name & name\\_isalpha\\\\\n",
              "  & <int> & <chr> & <chr> & <chr> & <int> & <int> & <int> & <int> & <int> & <int> & <int> & <int> & <chr> & <chr> & <int> & <lgl> & <lgl>\\\\\n",
              "\\hline\n",
              "\t1 & 1 & Bulbasaur             & Grass & Poison & 318 & 45 &  49 &  49 &  65 &  65 & 45 & 1 & False & Bulbasaur            &  9 & FALSE & TRUE\\\\\n",
              "\t2 & 2 & Ivysaur               & Grass & Poison & 405 & 60 &  62 &  63 &  80 &  80 & 60 & 1 & False & Ivysaur              &  7 & FALSE & TRUE\\\\\n",
              "\t3 & 3 & Venusaur              & Grass & Poison & 525 & 80 &  82 &  83 & 100 & 100 & 80 & 1 & False & Venusaur             &  8 & FALSE & TRUE\\\\\n",
              "\t4 & 3 & VenusaurMega Venusaur & Grass & Poison & 625 & 80 & 100 & 123 & 122 & 120 & 80 & 1 & False & VenusaurMegaVenusaur & 20 &  TRUE & TRUE\\\\\n",
              "\t5 & 4 & Charmander            & Fire  &        & 309 & 39 &  52 &  43 &  60 &  50 & 65 & 1 & False & Charmander           & 10 &  TRUE & TRUE\\\\\n",
              "\t6 & 5 & Charmeleon            & Fire  &        & 405 & 58 &  64 &  58 &  80 &  65 & 80 & 1 & False & Charmeleon           & 10 &  TRUE & TRUE\\\\\n",
              "\\end{tabular}\n"
            ],
            "text/markdown": [
              "\n",
              "A data.frame: 6 × 17\n",
              "\n",
              "| <!--/--> | X. &lt;int&gt; | Name &lt;chr&gt; | Type.1 &lt;chr&gt; | Type.2 &lt;chr&gt; | Total &lt;int&gt; | HP &lt;int&gt; | Attack &lt;int&gt; | Defense &lt;int&gt; | Sp..Atk &lt;int&gt; | Sp..Def &lt;int&gt; | Speed &lt;int&gt; | Generation &lt;int&gt; | Legendary &lt;chr&gt; | Name_nospace &lt;chr&gt; | name_count &lt;int&gt; | long_name &lt;lgl&gt; | name_isalpha &lt;lgl&gt; |\n",
              "|---|---|---|---|---|---|---|---|---|---|---|---|---|---|---|---|---|---|\n",
              "| 1 | 1 | Bulbasaur             | Grass | Poison | 318 | 45 |  49 |  49 |  65 |  65 | 45 | 1 | False | Bulbasaur            |  9 | FALSE | TRUE |\n",
              "| 2 | 2 | Ivysaur               | Grass | Poison | 405 | 60 |  62 |  63 |  80 |  80 | 60 | 1 | False | Ivysaur              |  7 | FALSE | TRUE |\n",
              "| 3 | 3 | Venusaur              | Grass | Poison | 525 | 80 |  82 |  83 | 100 | 100 | 80 | 1 | False | Venusaur             |  8 | FALSE | TRUE |\n",
              "| 4 | 3 | VenusaurMega Venusaur | Grass | Poison | 625 | 80 | 100 | 123 | 122 | 120 | 80 | 1 | False | VenusaurMegaVenusaur | 20 |  TRUE | TRUE |\n",
              "| 5 | 4 | Charmander            | Fire  | <!----> | 309 | 39 |  52 |  43 |  60 |  50 | 65 | 1 | False | Charmander           | 10 |  TRUE | TRUE |\n",
              "| 6 | 5 | Charmeleon            | Fire  | <!----> | 405 | 58 |  64 |  58 |  80 |  65 | 80 | 1 | False | Charmeleon           | 10 |  TRUE | TRUE |\n",
              "\n"
            ],
            "text/plain": [
              "  X. Name                  Type.1 Type.2 Total HP Attack Defense Sp..Atk\n",
              "1 1  Bulbasaur             Grass  Poison 318   45  49     49      65    \n",
              "2 2  Ivysaur               Grass  Poison 405   60  62     63      80    \n",
              "3 3  Venusaur              Grass  Poison 525   80  82     83     100    \n",
              "4 3  VenusaurMega Venusaur Grass  Poison 625   80 100    123     122    \n",
              "5 4  Charmander            Fire          309   39  52     43      60    \n",
              "6 5  Charmeleon            Fire          405   58  64     58      80    \n",
              "  Sp..Def Speed Generation Legendary Name_nospace         name_count long_name\n",
              "1  65     45    1          False     Bulbasaur             9         FALSE    \n",
              "2  80     60    1          False     Ivysaur               7         FALSE    \n",
              "3 100     80    1          False     Venusaur              8         FALSE    \n",
              "4 120     80    1          False     VenusaurMegaVenusaur 20          TRUE    \n",
              "5  50     65    1          False     Charmander           10          TRUE    \n",
              "6  65     80    1          False     Charmeleon           10          TRUE    \n",
              "  name_isalpha\n",
              "1 TRUE        \n",
              "2 TRUE        \n",
              "3 TRUE        \n",
              "4 TRUE        \n",
              "5 TRUE        \n",
              "6 TRUE        "
            ]
          },
          "metadata": {},
          "output_type": "display_data"
        }
      ],
      "source": [
        "# Create a new column \"name_isalpha\"\n",
        "df <- df %>% mutate(name_isalpha = sapply(Name_nospace, function(i) grepl(\"^[A-Za-z]+$\", i)))\n",
        "\n",
        "# Display the first few rows\n",
        "head(df)"
      ]
    },
    {
      "cell_type": "code",
      "execution_count": 30,
      "metadata": {
        "colab": {
          "base_uri": "https://localhost:8080/",
          "height": 466
        },
        "id": "m7af3cnl_Z1_",
        "outputId": "31b2720d-8753-4c54-b9ef-58274b96bced",
        "vscode": {
          "languageId": "r"
        }
      },
      "outputs": [
        {
          "data": {
            "text/html": [
              "<style>\n",
              ".list-inline {list-style: none; margin:0; padding: 0}\n",
              ".list-inline>li {display: inline-block}\n",
              ".list-inline>li:not(:last-child)::after {content: \"\\00b7\"; padding: 0 .5ex}\n",
              "</style>\n",
              "<ol class=list-inline><li>10</li><li>17</li></ol>\n"
            ],
            "text/latex": [
              "\\begin{enumerate*}\n",
              "\\item 10\n",
              "\\item 17\n",
              "\\end{enumerate*}\n"
            ],
            "text/markdown": [
              "1. 10\n",
              "2. 17\n",
              "\n",
              "\n"
            ],
            "text/plain": [
              "[1] 10 17"
            ]
          },
          "metadata": {},
          "output_type": "display_data"
        },
        {
          "data": {
            "text/html": [
              "<table class=\"dataframe\">\n",
              "<caption>A data.frame: 10 × 17</caption>\n",
              "<thead>\n",
              "\t<tr><th></th><th scope=col>X.</th><th scope=col>Name</th><th scope=col>Type.1</th><th scope=col>Type.2</th><th scope=col>Total</th><th scope=col>HP</th><th scope=col>Attack</th><th scope=col>Defense</th><th scope=col>Sp..Atk</th><th scope=col>Sp..Def</th><th scope=col>Speed</th><th scope=col>Generation</th><th scope=col>Legendary</th><th scope=col>Name_nospace</th><th scope=col>name_count</th><th scope=col>long_name</th><th scope=col>name_isalpha</th></tr>\n",
              "\t<tr><th></th><th scope=col>&lt;int&gt;</th><th scope=col>&lt;chr&gt;</th><th scope=col>&lt;chr&gt;</th><th scope=col>&lt;chr&gt;</th><th scope=col>&lt;int&gt;</th><th scope=col>&lt;int&gt;</th><th scope=col>&lt;int&gt;</th><th scope=col>&lt;int&gt;</th><th scope=col>&lt;int&gt;</th><th scope=col>&lt;int&gt;</th><th scope=col>&lt;int&gt;</th><th scope=col>&lt;int&gt;</th><th scope=col>&lt;chr&gt;</th><th scope=col>&lt;chr&gt;</th><th scope=col>&lt;int&gt;</th><th scope=col>&lt;lgl&gt;</th><th scope=col>&lt;lgl&gt;</th></tr>\n",
              "</thead>\n",
              "<tbody>\n",
              "\t<tr><th scope=row>35</th><td> 29</td><td>Nidoran♀        </td><td>Poison </td><td>      </td><td>275</td><td> 55</td><td> 47</td><td> 52</td><td> 40</td><td> 40</td><td>41</td><td>1</td><td>False</td><td>Nidoran♀       </td><td> 8</td><td>FALSE</td><td>FALSE</td></tr>\n",
              "\t<tr><th scope=row>38</th><td> 32</td><td>Nidoran♂        </td><td>Poison </td><td>      </td><td>273</td><td> 46</td><td> 57</td><td> 40</td><td> 40</td><td> 40</td><td>50</td><td>1</td><td>False</td><td>Nidoran♂       </td><td> 8</td><td>FALSE</td><td>FALSE</td></tr>\n",
              "\t<tr><th scope=row>91</th><td> 83</td><td>Farfetch'd      </td><td>Normal </td><td>Flying</td><td>352</td><td> 52</td><td> 65</td><td> 55</td><td> 58</td><td> 62</td><td>60</td><td>1</td><td>False</td><td>Farfetch'd     </td><td>10</td><td> TRUE</td><td>FALSE</td></tr>\n",
              "\t<tr><th scope=row>132</th><td>122</td><td>Mr. Mime        </td><td>Psychic</td><td>Fairy </td><td>460</td><td> 40</td><td> 45</td><td> 65</td><td>100</td><td>120</td><td>90</td><td>1</td><td>False</td><td>Mr.Mime        </td><td> 7</td><td>FALSE</td><td>FALSE</td></tr>\n",
              "\t<tr><th scope=row>253</th><td>233</td><td>Porygon2        </td><td>Normal </td><td>      </td><td>515</td><td> 85</td><td> 80</td><td> 90</td><td>105</td><td> 95</td><td>60</td><td>2</td><td>False</td><td>Porygon2       </td><td> 8</td><td>FALSE</td><td>FALSE</td></tr>\n",
              "\t<tr><th scope=row>271</th><td>250</td><td>Ho-oh           </td><td>Fire   </td><td>Flying</td><td>680</td><td>106</td><td>130</td><td> 90</td><td>110</td><td>154</td><td>90</td><td>2</td><td>True </td><td>Ho-oh          </td><td> 5</td><td>FALSE</td><td>FALSE</td></tr>\n",
              "\t<tr><th scope=row>488</th><td>439</td><td>Mime Jr.        </td><td>Psychic</td><td>Fairy </td><td>310</td><td> 20</td><td> 25</td><td> 45</td><td> 70</td><td> 90</td><td>60</td><td>4</td><td>False</td><td>MimeJr.        </td><td> 7</td><td>FALSE</td><td>FALSE</td></tr>\n",
              "\t<tr><th scope=row>526</th><td>474</td><td>Porygon-Z       </td><td>Normal </td><td>      </td><td>535</td><td> 85</td><td> 80</td><td> 70</td><td>135</td><td> 75</td><td>90</td><td>4</td><td>False</td><td>Porygon-Z      </td><td> 9</td><td>FALSE</td><td>FALSE</td></tr>\n",
              "\t<tr><th scope=row>738</th><td>669</td><td>Flabébé         </td><td>Fairy  </td><td>      </td><td>303</td><td> 44</td><td> 38</td><td> 39</td><td> 61</td><td> 79</td><td>42</td><td>6</td><td>False</td><td>Flabébé        </td><td> 7</td><td>FALSE</td><td>FALSE</td></tr>\n",
              "\t<tr><th scope=row>795</th><td>718</td><td>Zygarde50% Forme</td><td>Dragon </td><td>Ground</td><td>600</td><td>108</td><td>100</td><td>121</td><td> 81</td><td> 95</td><td>95</td><td>6</td><td>True </td><td>Zygarde50%Forme</td><td>15</td><td> TRUE</td><td>FALSE</td></tr>\n",
              "</tbody>\n",
              "</table>\n"
            ],
            "text/latex": [
              "A data.frame: 10 × 17\n",
              "\\begin{tabular}{r|lllllllllllllllll}\n",
              "  & X. & Name & Type.1 & Type.2 & Total & HP & Attack & Defense & Sp..Atk & Sp..Def & Speed & Generation & Legendary & Name\\_nospace & name\\_count & long\\_name & name\\_isalpha\\\\\n",
              "  & <int> & <chr> & <chr> & <chr> & <int> & <int> & <int> & <int> & <int> & <int> & <int> & <int> & <chr> & <chr> & <int> & <lgl> & <lgl>\\\\\n",
              "\\hline\n",
              "\t35 &  29 & Nidoran♀         & Poison  &        & 275 &  55 &  47 &  52 &  40 &  40 & 41 & 1 & False & Nidoran♀        &  8 & FALSE & FALSE\\\\\n",
              "\t38 &  32 & Nidoran♂         & Poison  &        & 273 &  46 &  57 &  40 &  40 &  40 & 50 & 1 & False & Nidoran♂        &  8 & FALSE & FALSE\\\\\n",
              "\t91 &  83 & Farfetch'd       & Normal  & Flying & 352 &  52 &  65 &  55 &  58 &  62 & 60 & 1 & False & Farfetch'd      & 10 &  TRUE & FALSE\\\\\n",
              "\t132 & 122 & Mr. Mime         & Psychic & Fairy  & 460 &  40 &  45 &  65 & 100 & 120 & 90 & 1 & False & Mr.Mime         &  7 & FALSE & FALSE\\\\\n",
              "\t253 & 233 & Porygon2         & Normal  &        & 515 &  85 &  80 &  90 & 105 &  95 & 60 & 2 & False & Porygon2        &  8 & FALSE & FALSE\\\\\n",
              "\t271 & 250 & Ho-oh            & Fire    & Flying & 680 & 106 & 130 &  90 & 110 & 154 & 90 & 2 & True  & Ho-oh           &  5 & FALSE & FALSE\\\\\n",
              "\t488 & 439 & Mime Jr.         & Psychic & Fairy  & 310 &  20 &  25 &  45 &  70 &  90 & 60 & 4 & False & MimeJr.         &  7 & FALSE & FALSE\\\\\n",
              "\t526 & 474 & Porygon-Z        & Normal  &        & 535 &  85 &  80 &  70 & 135 &  75 & 90 & 4 & False & Porygon-Z       &  9 & FALSE & FALSE\\\\\n",
              "\t738 & 669 & Flabébé          & Fairy   &        & 303 &  44 &  38 &  39 &  61 &  79 & 42 & 6 & False & Flabébé         &  7 & FALSE & FALSE\\\\\n",
              "\t795 & 718 & Zygarde50\\% Forme & Dragon  & Ground & 600 & 108 & 100 & 121 &  81 &  95 & 95 & 6 & True  & Zygarde50\\%Forme & 15 &  TRUE & FALSE\\\\\n",
              "\\end{tabular}\n"
            ],
            "text/markdown": [
              "\n",
              "A data.frame: 10 × 17\n",
              "\n",
              "| <!--/--> | X. &lt;int&gt; | Name &lt;chr&gt; | Type.1 &lt;chr&gt; | Type.2 &lt;chr&gt; | Total &lt;int&gt; | HP &lt;int&gt; | Attack &lt;int&gt; | Defense &lt;int&gt; | Sp..Atk &lt;int&gt; | Sp..Def &lt;int&gt; | Speed &lt;int&gt; | Generation &lt;int&gt; | Legendary &lt;chr&gt; | Name_nospace &lt;chr&gt; | name_count &lt;int&gt; | long_name &lt;lgl&gt; | name_isalpha &lt;lgl&gt; |\n",
              "|---|---|---|---|---|---|---|---|---|---|---|---|---|---|---|---|---|---|\n",
              "| 35 |  29 | Nidoran♀         | Poison  | <!----> | 275 |  55 |  47 |  52 |  40 |  40 | 41 | 1 | False | Nidoran♀        |  8 | FALSE | FALSE |\n",
              "| 38 |  32 | Nidoran♂         | Poison  | <!----> | 273 |  46 |  57 |  40 |  40 |  40 | 50 | 1 | False | Nidoran♂        |  8 | FALSE | FALSE |\n",
              "| 91 |  83 | Farfetch'd       | Normal  | Flying | 352 |  52 |  65 |  55 |  58 |  62 | 60 | 1 | False | Farfetch'd      | 10 |  TRUE | FALSE |\n",
              "| 132 | 122 | Mr. Mime         | Psychic | Fairy  | 460 |  40 |  45 |  65 | 100 | 120 | 90 | 1 | False | Mr.Mime         |  7 | FALSE | FALSE |\n",
              "| 253 | 233 | Porygon2         | Normal  | <!----> | 515 |  85 |  80 |  90 | 105 |  95 | 60 | 2 | False | Porygon2        |  8 | FALSE | FALSE |\n",
              "| 271 | 250 | Ho-oh            | Fire    | Flying | 680 | 106 | 130 |  90 | 110 | 154 | 90 | 2 | True  | Ho-oh           |  5 | FALSE | FALSE |\n",
              "| 488 | 439 | Mime Jr.         | Psychic | Fairy  | 310 |  20 |  25 |  45 |  70 |  90 | 60 | 4 | False | MimeJr.         |  7 | FALSE | FALSE |\n",
              "| 526 | 474 | Porygon-Z        | Normal  | <!----> | 535 |  85 |  80 |  70 | 135 |  75 | 90 | 4 | False | Porygon-Z       |  9 | FALSE | FALSE |\n",
              "| 738 | 669 | Flabébé          | Fairy   | <!----> | 303 |  44 |  38 |  39 |  61 |  79 | 42 | 6 | False | Flabébé         |  7 | FALSE | FALSE |\n",
              "| 795 | 718 | Zygarde50% Forme | Dragon  | Ground | 600 | 108 | 100 | 121 |  81 |  95 | 95 | 6 | True  | Zygarde50%Forme | 15 |  TRUE | FALSE |\n",
              "\n"
            ],
            "text/plain": [
              "    X.  Name             Type.1  Type.2 Total HP  Attack Defense Sp..Atk\n",
              "35   29 Nidoran♀         Poison         275    55  47     52      40    \n",
              "38   32 Nidoran♂         Poison         273    46  57     40      40    \n",
              "91   83 Farfetch'd       Normal  Flying 352    52  65     55      58    \n",
              "132 122 Mr. Mime         Psychic Fairy  460    40  45     65     100    \n",
              "253 233 Porygon2         Normal         515    85  80     90     105    \n",
              "271 250 Ho-oh            Fire    Flying 680   106 130     90     110    \n",
              "488 439 Mime Jr.         Psychic Fairy  310    20  25     45      70    \n",
              "526 474 Porygon-Z        Normal         535    85  80     70     135    \n",
              "738 669 Flabébé          Fairy          303    44  38     39      61    \n",
              "795 718 Zygarde50% Forme Dragon  Ground 600   108 100    121      81    \n",
              "    Sp..Def Speed Generation Legendary Name_nospace    name_count long_name\n",
              "35   40     41    1          False     Nidoran♀         8         FALSE    \n",
              "38   40     50    1          False     Nidoran♂         8         FALSE    \n",
              "91   62     60    1          False     Farfetch'd      10          TRUE    \n",
              "132 120     90    1          False     Mr.Mime          7         FALSE    \n",
              "253  95     60    2          False     Porygon2         8         FALSE    \n",
              "271 154     90    2          True      Ho-oh            5         FALSE    \n",
              "488  90     60    4          False     MimeJr.          7         FALSE    \n",
              "526  75     90    4          False     Porygon-Z        9         FALSE    \n",
              "738  79     42    6          False     Flabébé          7         FALSE    \n",
              "795  95     95    6          True      Zygarde50%Forme 15          TRUE    \n",
              "    name_isalpha\n",
              "35  FALSE       \n",
              "38  FALSE       \n",
              "91  FALSE       \n",
              "132 FALSE       \n",
              "253 FALSE       \n",
              "271 FALSE       \n",
              "488 FALSE       \n",
              "526 FALSE       \n",
              "738 FALSE       \n",
              "795 FALSE       "
            ]
          },
          "metadata": {},
          "output_type": "display_data"
        }
      ],
      "source": [
        "# Check the shape\n",
        "non_alpha_shape <- dim(df[df$name_isalpha == FALSE, ])\n",
        "\n",
        "# Display the subset of rows\n",
        "non_alpha_subset <- df[df$name_isalpha == FALSE, ]\n",
        "\n",
        "non_alpha_shape\n",
        "non_alpha_subset\n"
      ]
    },
    {
      "cell_type": "code",
      "execution_count": 31,
      "metadata": {
        "colab": {
          "base_uri": "https://localhost:8080/"
        },
        "id": "CrvRYvr3_wyv",
        "outputId": "451871a4-484b-4d28-8b26-72babd1208ab",
        "vscode": {
          "languageId": "r"
        }
      },
      "outputs": [
        {
          "name": "stdout",
          "output_type": "stream",
          "text": [
            "     X.    Name Type.1 Type.2 Total HP Attack Defense Sp..Atk Sp..Def Speed\n",
            "149 137 Porygon Normal          395 65     60      70      85      75    40\n",
            "    Generation Legendary Name_nospace name_count long_name name_isalpha\n",
            "149          1     False      Porygon          7     FALSE         TRUE\n"
          ]
        }
      ],
      "source": [
        "# Assuming you have already loaded the necessary library (e.g., dplyr)\n",
        "library(dplyr)\n",
        "\n",
        "# Replace values in the specified rows\n",
        "df <- df %>%\n",
        "  mutate(Name_nospace = ifelse(row_number() %in% c(34, 37, 90, 131, 252, 270, 487, 525, 794),\n",
        "                              case_when(\n",
        "                                Name_nospace == \"Nidoran♀\" ~ \"Nidoran X\",\n",
        "                                Name_nospace == \"Nidoran♂\" ~ \"Nidoran Y\",\n",
        "                                Name_nospace == \"Farfetch'd\" ~ \"Farfetchd\",\n",
        "                                Name_nospace == \"Mr. Mime\" ~ \"Mr Mime\",\n",
        "                                Name_nospace == \"Porygon2\" ~ \"Porygon\",\n",
        "                                Name_nospace == \"Ho-oh\" ~ \"Ho Oh\",\n",
        "                                Name_nospace == \"Mime Jr.\" ~ \"Mime Jr\",\n",
        "                                Name_nospace == \"Porygon-Z\" ~ \"Porygon Z\",\n",
        "                                Name_nospace == \"Zygarde50% Forme\" ~ \"Zygarde Forme\",\n",
        "                                TRUE ~ Name_nospace\n",
        "                              ),\n",
        "                              Name_nospace)\n",
        "  )\n",
        "\n",
        "# Display the specified rows\n",
        "specified_rows <- df[df$Name_nospace %in% c(\"Nidoran X\", \"Nidoran Y\", \"Farfetchd\", \"Mr Mime\",\n",
        "                                             \"Porygon\", \"Ho Oh\", \"Mime Jr\", \"Porygon Z\", \"Zygarde Forme\"), ]\n",
        "\n",
        "print(specified_rows)\n"
      ]
    },
    {
      "cell_type": "code",
      "execution_count": 32,
      "metadata": {
        "colab": {
          "base_uri": "https://localhost:8080/"
        },
        "id": "Vl-HpWjM_8s6",
        "outputId": "d5bb2e52-1fe0-46d3-e5de-7015bd641808",
        "vscode": {
          "languageId": "r"
        }
      },
      "outputs": [
        {
          "name": "stdout",
          "output_type": "stream",
          "text": [
            "[1] 10 17\n",
            "     X.             Name  Type.1 Type.2 Total  HP Attack Defense Sp..Atk\n",
            "35   29         Nidoran♀  Poison          275  55     47      52      40\n",
            "38   32         Nidoran♂  Poison          273  46     57      40      40\n",
            "91   83       Farfetch'd  Normal Flying   352  52     65      55      58\n",
            "132 122         Mr. Mime Psychic  Fairy   460  40     45      65     100\n",
            "253 233         Porygon2  Normal          515  85     80      90     105\n",
            "271 250            Ho-oh    Fire Flying   680 106    130      90     110\n",
            "488 439         Mime Jr. Psychic  Fairy   310  20     25      45      70\n",
            "526 474        Porygon-Z  Normal          535  85     80      70     135\n",
            "738 669          Flabébé   Fairy          303  44     38      39      61\n",
            "795 718 Zygarde50% Forme  Dragon Ground   600 108    100     121      81\n",
            "    Sp..Def Speed Generation Legendary    Name_nospace name_count long_name\n",
            "35       40    41          1     False        Nidoran♀          8     FALSE\n",
            "38       40    50          1     False        Nidoran♂          8     FALSE\n",
            "91       62    60          1     False      Farfetch'd         10      TRUE\n",
            "132     120    90          1     False         Mr.Mime          7     FALSE\n",
            "253      95    60          2     False        Porygon2          8     FALSE\n",
            "271     154    90          2      True           Ho-oh          5     FALSE\n",
            "488      90    60          4     False         MimeJr.          7     FALSE\n",
            "526      75    90          4     False       Porygon-Z          9     FALSE\n",
            "738      79    42          6     False         Flabébé          7     FALSE\n",
            "795      95    95          6      True Zygarde50%Forme         15      TRUE\n",
            "    name_isalpha\n",
            "35         FALSE\n",
            "38         FALSE\n",
            "91         FALSE\n",
            "132        FALSE\n",
            "253        FALSE\n",
            "271        FALSE\n",
            "488        FALSE\n",
            "526        FALSE\n",
            "738        FALSE\n",
            "795        FALSE\n"
          ]
        }
      ],
      "source": [
        "# Check the shape\n",
        "non_alpha_shape <- dim(subset(df, name_isalpha == FALSE))\n",
        "\n",
        "# Display the subset of rows\n",
        "non_alpha_subset <- subset(df, name_isalpha == FALSE)\n",
        "\n",
        "print(non_alpha_shape)\n",
        "print(non_alpha_subset)\n"
      ]
    },
    {
      "cell_type": "code",
      "execution_count": 33,
      "metadata": {
        "colab": {
          "base_uri": "https://localhost:8080/"
        },
        "id": "Gni_0sYlABuS",
        "outputId": "b3b2d0b8-70b2-4d8e-8d53-17e256ac7d68",
        "vscode": {
          "languageId": "r"
        }
      },
      "outputs": [
        {
          "name": "stdout",
          "output_type": "stream",
          "text": [
            "     X.             Name  Type.1 Type.2 Total  HP Attack Defense Sp..Atk\n",
            "35   29         Nidoran♀  Poison          275  55     47      52      40\n",
            "38   32         Nidoran♂  Poison          273  46     57      40      40\n",
            "91   83       Farfetch'd  Normal Flying   352  52     65      55      58\n",
            "132 122         Mr. Mime Psychic  Fairy   460  40     45      65     100\n",
            "253 233         Porygon2  Normal          515  85     80      90     105\n",
            "271 250            Ho-oh    Fire Flying   680 106    130      90     110\n",
            "488 439         Mime Jr. Psychic  Fairy   310  20     25      45      70\n",
            "526 474        Porygon-Z  Normal          535  85     80      70     135\n",
            "738 669          Flabébé   Fairy          303  44     38      39      61\n",
            "795 718 Zygarde50% Forme  Dragon Ground   600 108    100     121      81\n",
            "    Sp..Def Speed Generation Legendary    Name_nospace name_count long_name\n",
            "35       40    41          1     False        Nidoran♀          8     FALSE\n",
            "38       40    50          1     False        Nidoran♂          8     FALSE\n",
            "91       62    60          1     False      Farfetch'd         10      TRUE\n",
            "132     120    90          1     False         Mr.Mime          7     FALSE\n",
            "253      95    60          2     False        Porygon2          8     FALSE\n",
            "271     154    90          2      True           Ho-oh          5     FALSE\n",
            "488      90    60          4     False         MimeJr.          7     FALSE\n",
            "526      75    90          4     False       Porygon-Z          9     FALSE\n",
            "738      79    42          6     False         Flabébé          7     FALSE\n",
            "795      95    95          6      True Zygarde50%Forme         15      TRUE\n",
            "    name_isalpha\n",
            "35         FALSE\n",
            "38         FALSE\n",
            "91         FALSE\n",
            "132        FALSE\n",
            "253        FALSE\n",
            "271        FALSE\n",
            "488        FALSE\n",
            "526        FALSE\n",
            "738        FALSE\n",
            "795        FALSE\n"
          ]
        }
      ],
      "source": [
        "# Assuming you have already loaded the necessary library (e.g., dplyr)\n",
        "library(dplyr)\n",
        "\n",
        "# Create a new column \"Name_nospace\"\n",
        "df <- df %>% mutate(Name_nospace = gsub(\" \", \"\", Name))\n",
        "\n",
        "# Create a new column \"name_isalpha\"\n",
        "df <- df %>% mutate(name_isalpha = sapply(Name_nospace, function(i) grepl(\"^[A-Za-z]+$\", i)))\n",
        "\n",
        "# Subset of rows where \"name_isalpha\" is FALSE\n",
        "non_alpha_subset <- df[df$name_isalpha == FALSE, ]\n",
        "\n",
        "print(non_alpha_subset)\n"
      ]
    },
    {
      "cell_type": "code",
      "execution_count": 34,
      "metadata": {
        "colab": {
          "base_uri": "https://localhost:8080/"
        },
        "id": "KvC41VVXAIZS",
        "outputId": "b37061c8-bef1-4427-a6bf-097db0d0865d",
        "vscode": {
          "languageId": "r"
        }
      },
      "outputs": [
        {
          "name": "stdout",
          "output_type": "stream",
          "text": [
            " [1] \"Bug\"      \"Dark\"     \"Dragon\"   \"Electric\" \"Fairy\"    \"Fighting\"\n",
            " [7] \"Fire\"     \"Flying\"   \"Ghost\"    \"Grass\"    \"Ground\"   \"Ice\"     \n",
            "[13] \"Normal\"   \"Poison\"   \"Psychic\"  \"Rock\"     \"Steel\"    \"Water\"   \n",
            "NULL\n"
          ]
        }
      ],
      "source": [
        "# Transform 'Type 1' using factor\n",
        "df$Type.1 <- as.factor(df$Type.1)\n",
        "\n",
        "# Check the levels before encoding\n",
        "print(levels(df$Type.1))\n",
        "\n",
        "# Use LabelEncoder equivalent in R\n",
        "df$Type.1 <- as.numeric(df$Type.1) - 1\n"
      ]
    },
    {
      "cell_type": "code",
      "execution_count": 35,
      "metadata": {
        "colab": {
          "base_uri": "https://localhost:8080/"
        },
        "id": "OqXTsn6QAUzK",
        "outputId": "59c5d205-9c1d-4495-e7c0-b2bfa8f281e7",
        "vscode": {
          "languageId": "r"
        }
      },
      "outputs": [
        {
          "name": "stdout",
          "output_type": "stream",
          "text": [
            " [1] \"\"         \"Bug\"      \"Dark\"     \"Dragon\"   \"Electric\" \"Fairy\"   \n",
            " [7] \"Fighting\" \"Fire\"     \"Flying\"   \"Ghost\"    \"Grass\"    \"Ground\"  \n",
            "[13] \"Ice\"      \"Normal\"   \"Poison\"   \"Psychic\"  \"Rock\"     \"Steel\"   \n",
            "[19] \"Water\"   \n",
            "NULL\n"
          ]
        }
      ],
      "source": [
        "# Transform 'Type 2' using factor\n",
        "df$Type.2 <- as.factor(df$Type.2)\n",
        "\n",
        "# Check the levels before encoding\n",
        "print(levels(df$Type.2))\n",
        "\n",
        "# Use LabelEncoder equivalent in R\n",
        "df$Type.2 <- as.numeric(df$Type.2) - 1\n",
        "\n",
        "# Check the levels after encoding\n",
        "print(levels(df$Type.2))\n",
        "\n",
        "\n"
      ]
    },
    {
      "cell_type": "code",
      "execution_count": 37,
      "metadata": {
        "colab": {
          "base_uri": "https://localhost:8080/",
          "height": 323
        },
        "id": "5PwXPTPIAbl5",
        "outputId": "14262128-c708-4079-bd2a-a0080e690afb",
        "vscode": {
          "languageId": "r"
        }
      },
      "outputs": [
        {
          "data": {
            "text/html": [
              "<table class=\"dataframe\">\n",
              "<caption>A data.frame: 6 × 17</caption>\n",
              "<thead>\n",
              "\t<tr><th></th><th scope=col>X.</th><th scope=col>Name</th><th scope=col>Type.1</th><th scope=col>Type.2</th><th scope=col>Total</th><th scope=col>HP</th><th scope=col>Attack</th><th scope=col>Defense</th><th scope=col>Sp..Atk</th><th scope=col>Sp..Def</th><th scope=col>Speed</th><th scope=col>Generation</th><th scope=col>Legendary</th><th scope=col>Name_nospace</th><th scope=col>name_count</th><th scope=col>long_name</th><th scope=col>name_isalpha</th></tr>\n",
              "\t<tr><th></th><th scope=col>&lt;int&gt;</th><th scope=col>&lt;chr&gt;</th><th scope=col>&lt;dbl&gt;</th><th scope=col>&lt;dbl&gt;</th><th scope=col>&lt;int&gt;</th><th scope=col>&lt;int&gt;</th><th scope=col>&lt;int&gt;</th><th scope=col>&lt;int&gt;</th><th scope=col>&lt;int&gt;</th><th scope=col>&lt;int&gt;</th><th scope=col>&lt;int&gt;</th><th scope=col>&lt;int&gt;</th><th scope=col>&lt;chr&gt;</th><th scope=col>&lt;chr&gt;</th><th scope=col>&lt;int&gt;</th><th scope=col>&lt;lgl&gt;</th><th scope=col>&lt;lgl&gt;</th></tr>\n",
              "</thead>\n",
              "<tbody>\n",
              "\t<tr><th scope=row>1</th><td>1</td><td>Bulbasaur            </td><td>9</td><td>14</td><td>318</td><td>45</td><td> 49</td><td> 49</td><td> 65</td><td> 65</td><td>45</td><td>1</td><td>False</td><td>Bulbasaur           </td><td> 9</td><td>FALSE</td><td>TRUE</td></tr>\n",
              "\t<tr><th scope=row>2</th><td>2</td><td>Ivysaur              </td><td>9</td><td>14</td><td>405</td><td>60</td><td> 62</td><td> 63</td><td> 80</td><td> 80</td><td>60</td><td>1</td><td>False</td><td>Ivysaur             </td><td> 7</td><td>FALSE</td><td>TRUE</td></tr>\n",
              "\t<tr><th scope=row>3</th><td>3</td><td>Venusaur             </td><td>9</td><td>14</td><td>525</td><td>80</td><td> 82</td><td> 83</td><td>100</td><td>100</td><td>80</td><td>1</td><td>False</td><td>Venusaur            </td><td> 8</td><td>FALSE</td><td>TRUE</td></tr>\n",
              "\t<tr><th scope=row>4</th><td>3</td><td>VenusaurMega Venusaur</td><td>9</td><td>14</td><td>625</td><td>80</td><td>100</td><td>123</td><td>122</td><td>120</td><td>80</td><td>1</td><td>False</td><td>VenusaurMegaVenusaur</td><td>20</td><td> TRUE</td><td>TRUE</td></tr>\n",
              "\t<tr><th scope=row>5</th><td>4</td><td>Charmander           </td><td>6</td><td> 0</td><td>309</td><td>39</td><td> 52</td><td> 43</td><td> 60</td><td> 50</td><td>65</td><td>1</td><td>False</td><td>Charmander          </td><td>10</td><td> TRUE</td><td>TRUE</td></tr>\n",
              "\t<tr><th scope=row>6</th><td>5</td><td>Charmeleon           </td><td>6</td><td> 0</td><td>405</td><td>58</td><td> 64</td><td> 58</td><td> 80</td><td> 65</td><td>80</td><td>1</td><td>False</td><td>Charmeleon          </td><td>10</td><td> TRUE</td><td>TRUE</td></tr>\n",
              "</tbody>\n",
              "</table>\n"
            ],
            "text/latex": [
              "A data.frame: 6 × 17\n",
              "\\begin{tabular}{r|lllllllllllllllll}\n",
              "  & X. & Name & Type.1 & Type.2 & Total & HP & Attack & Defense & Sp..Atk & Sp..Def & Speed & Generation & Legendary & Name\\_nospace & name\\_count & long\\_name & name\\_isalpha\\\\\n",
              "  & <int> & <chr> & <dbl> & <dbl> & <int> & <int> & <int> & <int> & <int> & <int> & <int> & <int> & <chr> & <chr> & <int> & <lgl> & <lgl>\\\\\n",
              "\\hline\n",
              "\t1 & 1 & Bulbasaur             & 9 & 14 & 318 & 45 &  49 &  49 &  65 &  65 & 45 & 1 & False & Bulbasaur            &  9 & FALSE & TRUE\\\\\n",
              "\t2 & 2 & Ivysaur               & 9 & 14 & 405 & 60 &  62 &  63 &  80 &  80 & 60 & 1 & False & Ivysaur              &  7 & FALSE & TRUE\\\\\n",
              "\t3 & 3 & Venusaur              & 9 & 14 & 525 & 80 &  82 &  83 & 100 & 100 & 80 & 1 & False & Venusaur             &  8 & FALSE & TRUE\\\\\n",
              "\t4 & 3 & VenusaurMega Venusaur & 9 & 14 & 625 & 80 & 100 & 123 & 122 & 120 & 80 & 1 & False & VenusaurMegaVenusaur & 20 &  TRUE & TRUE\\\\\n",
              "\t5 & 4 & Charmander            & 6 &  0 & 309 & 39 &  52 &  43 &  60 &  50 & 65 & 1 & False & Charmander           & 10 &  TRUE & TRUE\\\\\n",
              "\t6 & 5 & Charmeleon            & 6 &  0 & 405 & 58 &  64 &  58 &  80 &  65 & 80 & 1 & False & Charmeleon           & 10 &  TRUE & TRUE\\\\\n",
              "\\end{tabular}\n"
            ],
            "text/markdown": [
              "\n",
              "A data.frame: 6 × 17\n",
              "\n",
              "| <!--/--> | X. &lt;int&gt; | Name &lt;chr&gt; | Type.1 &lt;dbl&gt; | Type.2 &lt;dbl&gt; | Total &lt;int&gt; | HP &lt;int&gt; | Attack &lt;int&gt; | Defense &lt;int&gt; | Sp..Atk &lt;int&gt; | Sp..Def &lt;int&gt; | Speed &lt;int&gt; | Generation &lt;int&gt; | Legendary &lt;chr&gt; | Name_nospace &lt;chr&gt; | name_count &lt;int&gt; | long_name &lt;lgl&gt; | name_isalpha &lt;lgl&gt; |\n",
              "|---|---|---|---|---|---|---|---|---|---|---|---|---|---|---|---|---|---|\n",
              "| 1 | 1 | Bulbasaur             | 9 | 14 | 318 | 45 |  49 |  49 |  65 |  65 | 45 | 1 | False | Bulbasaur            |  9 | FALSE | TRUE |\n",
              "| 2 | 2 | Ivysaur               | 9 | 14 | 405 | 60 |  62 |  63 |  80 |  80 | 60 | 1 | False | Ivysaur              |  7 | FALSE | TRUE |\n",
              "| 3 | 3 | Venusaur              | 9 | 14 | 525 | 80 |  82 |  83 | 100 | 100 | 80 | 1 | False | Venusaur             |  8 | FALSE | TRUE |\n",
              "| 4 | 3 | VenusaurMega Venusaur | 9 | 14 | 625 | 80 | 100 | 123 | 122 | 120 | 80 | 1 | False | VenusaurMegaVenusaur | 20 |  TRUE | TRUE |\n",
              "| 5 | 4 | Charmander            | 6 |  0 | 309 | 39 |  52 |  43 |  60 |  50 | 65 | 1 | False | Charmander           | 10 |  TRUE | TRUE |\n",
              "| 6 | 5 | Charmeleon            | 6 |  0 | 405 | 58 |  64 |  58 |  80 |  65 | 80 | 1 | False | Charmeleon           | 10 |  TRUE | TRUE |\n",
              "\n"
            ],
            "text/plain": [
              "  X. Name                  Type.1 Type.2 Total HP Attack Defense Sp..Atk\n",
              "1 1  Bulbasaur             9      14     318   45  49     49      65    \n",
              "2 2  Ivysaur               9      14     405   60  62     63      80    \n",
              "3 3  Venusaur              9      14     525   80  82     83     100    \n",
              "4 3  VenusaurMega Venusaur 9      14     625   80 100    123     122    \n",
              "5 4  Charmander            6       0     309   39  52     43      60    \n",
              "6 5  Charmeleon            6       0     405   58  64     58      80    \n",
              "  Sp..Def Speed Generation Legendary Name_nospace         name_count long_name\n",
              "1  65     45    1          False     Bulbasaur             9         FALSE    \n",
              "2  80     60    1          False     Ivysaur               7         FALSE    \n",
              "3 100     80    1          False     Venusaur              8         FALSE    \n",
              "4 120     80    1          False     VenusaurMegaVenusaur 20          TRUE    \n",
              "5  50     65    1          False     Charmander           10          TRUE    \n",
              "6  65     80    1          False     Charmeleon           10          TRUE    \n",
              "  name_isalpha\n",
              "1 TRUE        \n",
              "2 TRUE        \n",
              "3 TRUE        \n",
              "4 TRUE        \n",
              "5 TRUE        \n",
              "6 TRUE        "
            ]
          },
          "metadata": {},
          "output_type": "display_data"
        }
      ],
      "source": [
        "head(df)"
      ]
    },
    {
      "cell_type": "code",
      "execution_count": 38,
      "metadata": {
        "id": "8hqwlzJEAibq",
        "vscode": {
          "languageId": "r"
        }
      },
      "outputs": [],
      "source": [
        "# Convert 'Legendary' to factor and perform label encoding\n",
        "df$Legendary <- as.numeric(as.factor(df$Legendary))\n",
        "\n",
        "# Convert 'long_name' to factor and perform label encoding\n",
        "df$long_name <- as.numeric(as.factor(df$long_name))"
      ]
    },
    {
      "cell_type": "code",
      "execution_count": 42,
      "metadata": {
        "id": "ZJzaUr8bAxkj",
        "vscode": {
          "languageId": "r"
        }
      },
      "outputs": [],
      "source": [
        "# Drop specified columns from the data frame\n",
        "X <- df %>%\n",
        "  select(-c(Name, Name_nospace, name_isalpha, Legendary))\n",
        "\n",
        "# Select the 'Legendary' column\n",
        "Y <- df$Legendary"
      ]
    },
    {
      "cell_type": "code",
      "execution_count": 45,
      "metadata": {
        "colab": {
          "base_uri": "https://localhost:8080/",
          "height": 286
        },
        "id": "aPCE6SGuA3jD",
        "outputId": "fdcafabb-37c2-4268-d74b-626af4691dc4",
        "vscode": {
          "languageId": "r"
        }
      },
      "outputs": [
        {
          "data": {
            "text/html": [
              "<table class=\"dataframe\">\n",
              "<caption>A data.frame: 6 × 13</caption>\n",
              "<thead>\n",
              "\t<tr><th></th><th scope=col>X.</th><th scope=col>Type.1</th><th scope=col>Type.2</th><th scope=col>Total</th><th scope=col>HP</th><th scope=col>Attack</th><th scope=col>Defense</th><th scope=col>Sp..Atk</th><th scope=col>Sp..Def</th><th scope=col>Speed</th><th scope=col>Generation</th><th scope=col>name_count</th><th scope=col>long_name</th></tr>\n",
              "\t<tr><th></th><th scope=col>&lt;int&gt;</th><th scope=col>&lt;dbl&gt;</th><th scope=col>&lt;dbl&gt;</th><th scope=col>&lt;int&gt;</th><th scope=col>&lt;int&gt;</th><th scope=col>&lt;int&gt;</th><th scope=col>&lt;int&gt;</th><th scope=col>&lt;int&gt;</th><th scope=col>&lt;int&gt;</th><th scope=col>&lt;int&gt;</th><th scope=col>&lt;int&gt;</th><th scope=col>&lt;int&gt;</th><th scope=col>&lt;dbl&gt;</th></tr>\n",
              "</thead>\n",
              "<tbody>\n",
              "\t<tr><th scope=row>1</th><td>1</td><td>9</td><td>14</td><td>318</td><td>45</td><td> 49</td><td> 49</td><td> 65</td><td> 65</td><td>45</td><td>1</td><td> 9</td><td>1</td></tr>\n",
              "\t<tr><th scope=row>2</th><td>2</td><td>9</td><td>14</td><td>405</td><td>60</td><td> 62</td><td> 63</td><td> 80</td><td> 80</td><td>60</td><td>1</td><td> 7</td><td>1</td></tr>\n",
              "\t<tr><th scope=row>3</th><td>3</td><td>9</td><td>14</td><td>525</td><td>80</td><td> 82</td><td> 83</td><td>100</td><td>100</td><td>80</td><td>1</td><td> 8</td><td>1</td></tr>\n",
              "\t<tr><th scope=row>4</th><td>3</td><td>9</td><td>14</td><td>625</td><td>80</td><td>100</td><td>123</td><td>122</td><td>120</td><td>80</td><td>1</td><td>20</td><td>2</td></tr>\n",
              "\t<tr><th scope=row>5</th><td>4</td><td>6</td><td> 0</td><td>309</td><td>39</td><td> 52</td><td> 43</td><td> 60</td><td> 50</td><td>65</td><td>1</td><td>10</td><td>2</td></tr>\n",
              "\t<tr><th scope=row>6</th><td>5</td><td>6</td><td> 0</td><td>405</td><td>58</td><td> 64</td><td> 58</td><td> 80</td><td> 65</td><td>80</td><td>1</td><td>10</td><td>2</td></tr>\n",
              "</tbody>\n",
              "</table>\n"
            ],
            "text/latex": [
              "A data.frame: 6 × 13\n",
              "\\begin{tabular}{r|lllllllllllll}\n",
              "  & X. & Type.1 & Type.2 & Total & HP & Attack & Defense & Sp..Atk & Sp..Def & Speed & Generation & name\\_count & long\\_name\\\\\n",
              "  & <int> & <dbl> & <dbl> & <int> & <int> & <int> & <int> & <int> & <int> & <int> & <int> & <int> & <dbl>\\\\\n",
              "\\hline\n",
              "\t1 & 1 & 9 & 14 & 318 & 45 &  49 &  49 &  65 &  65 & 45 & 1 &  9 & 1\\\\\n",
              "\t2 & 2 & 9 & 14 & 405 & 60 &  62 &  63 &  80 &  80 & 60 & 1 &  7 & 1\\\\\n",
              "\t3 & 3 & 9 & 14 & 525 & 80 &  82 &  83 & 100 & 100 & 80 & 1 &  8 & 1\\\\\n",
              "\t4 & 3 & 9 & 14 & 625 & 80 & 100 & 123 & 122 & 120 & 80 & 1 & 20 & 2\\\\\n",
              "\t5 & 4 & 6 &  0 & 309 & 39 &  52 &  43 &  60 &  50 & 65 & 1 & 10 & 2\\\\\n",
              "\t6 & 5 & 6 &  0 & 405 & 58 &  64 &  58 &  80 &  65 & 80 & 1 & 10 & 2\\\\\n",
              "\\end{tabular}\n"
            ],
            "text/markdown": [
              "\n",
              "A data.frame: 6 × 13\n",
              "\n",
              "| <!--/--> | X. &lt;int&gt; | Type.1 &lt;dbl&gt; | Type.2 &lt;dbl&gt; | Total &lt;int&gt; | HP &lt;int&gt; | Attack &lt;int&gt; | Defense &lt;int&gt; | Sp..Atk &lt;int&gt; | Sp..Def &lt;int&gt; | Speed &lt;int&gt; | Generation &lt;int&gt; | name_count &lt;int&gt; | long_name &lt;dbl&gt; |\n",
              "|---|---|---|---|---|---|---|---|---|---|---|---|---|---|\n",
              "| 1 | 1 | 9 | 14 | 318 | 45 |  49 |  49 |  65 |  65 | 45 | 1 |  9 | 1 |\n",
              "| 2 | 2 | 9 | 14 | 405 | 60 |  62 |  63 |  80 |  80 | 60 | 1 |  7 | 1 |\n",
              "| 3 | 3 | 9 | 14 | 525 | 80 |  82 |  83 | 100 | 100 | 80 | 1 |  8 | 1 |\n",
              "| 4 | 3 | 9 | 14 | 625 | 80 | 100 | 123 | 122 | 120 | 80 | 1 | 20 | 2 |\n",
              "| 5 | 4 | 6 |  0 | 309 | 39 |  52 |  43 |  60 |  50 | 65 | 1 | 10 | 2 |\n",
              "| 6 | 5 | 6 |  0 | 405 | 58 |  64 |  58 |  80 |  65 | 80 | 1 | 10 | 2 |\n",
              "\n"
            ],
            "text/plain": [
              "  X. Type.1 Type.2 Total HP Attack Defense Sp..Atk Sp..Def Speed Generation\n",
              "1 1  9      14     318   45  49     49      65      65     45    1         \n",
              "2 2  9      14     405   60  62     63      80      80     60    1         \n",
              "3 3  9      14     525   80  82     83     100     100     80    1         \n",
              "4 3  9      14     625   80 100    123     122     120     80    1         \n",
              "5 4  6       0     309   39  52     43      60      50     65    1         \n",
              "6 5  6       0     405   58  64     58      80      65     80    1         \n",
              "  name_count long_name\n",
              "1  9         1        \n",
              "2  7         1        \n",
              "3  8         1        \n",
              "4 20         2        \n",
              "5 10         2        \n",
              "6 10         2        "
            ]
          },
          "metadata": {},
          "output_type": "display_data"
        }
      ],
      "source": [
        "head(X)"
      ]
    },
    {
      "cell_type": "code",
      "execution_count": 52,
      "metadata": {
        "colab": {
          "base_uri": "https://localhost:8080/"
        },
        "id": "uVuw1V1lBK6j",
        "outputId": "43b67666-2982-460d-b1a7-33dfa9429a50",
        "vscode": {
          "languageId": "r"
        }
      },
      "outputs": [
        {
          "name": "stdout",
          "output_type": "stream",
          "text": [
            "Training set:  640 13 640 \n",
            "Testing set:  160 13 160 \n"
          ]
        }
      ],
      "source": [
        "    # Set the seed for reproducibility\n",
        "    set.seed(15)\n",
        "\n",
        "    # Generate random indices for the train-test split\n",
        "    splitIndex <- sample(seq_len(nrow(X)), size = 0.8 * nrow(X))\n",
        "\n",
        "    # Split the data into training and testing sets\n",
        "    X_train <- X[splitIndex, ]\n",
        "    Y_train <- Y[splitIndex]\n",
        "    X_test <- X[-splitIndex, ]\n",
        "    Y_test <- Y[-splitIndex]\n",
        "\n",
        "    # Display the shape of the sets\n",
        "    cat(\"Training set: \", dim(X_train), length(Y_train), \"\\n\")\n",
        "    cat(\"Testing set: \", dim(X_test), length(Y_test), \"\\n\")\n"
      ]
    },
    {
      "cell_type": "code",
      "execution_count": 54,
      "metadata": {
        "colab": {
          "base_uri": "https://localhost:8080/",
          "height": 1000
        },
        "id": "wTQKuKQnBY3F",
        "outputId": "d943318e-10a0-4d8b-bb19-175e46c20a08",
        "vscode": {
          "languageId": "r"
        }
      },
      "outputs": [
        {
          "data": {
            "text/html": [
              "<table class=\"dataframe\">\n",
              "<caption>A data.frame: 160 × 13</caption>\n",
              "<thead>\n",
              "\t<tr><th></th><th scope=col>X.</th><th scope=col>Type.1</th><th scope=col>Type.2</th><th scope=col>Total</th><th scope=col>HP</th><th scope=col>Attack</th><th scope=col>Defense</th><th scope=col>Sp..Atk</th><th scope=col>Sp..Def</th><th scope=col>Speed</th><th scope=col>Generation</th><th scope=col>name_count</th><th scope=col>long_name</th></tr>\n",
              "\t<tr><th></th><th scope=col>&lt;int&gt;</th><th scope=col>&lt;dbl&gt;</th><th scope=col>&lt;dbl&gt;</th><th scope=col>&lt;int&gt;</th><th scope=col>&lt;int&gt;</th><th scope=col>&lt;int&gt;</th><th scope=col>&lt;int&gt;</th><th scope=col>&lt;int&gt;</th><th scope=col>&lt;int&gt;</th><th scope=col>&lt;int&gt;</th><th scope=col>&lt;int&gt;</th><th scope=col>&lt;int&gt;</th><th scope=col>&lt;dbl&gt;</th></tr>\n",
              "</thead>\n",
              "<tbody>\n",
              "\t<tr><th scope=row>3</th><td>  3</td><td> 9</td><td>14</td><td>525</td><td> 80</td><td> 82</td><td> 83</td><td>100</td><td>100</td><td> 80</td><td>1</td><td> 8</td><td>1</td></tr>\n",
              "\t<tr><th scope=row>4</th><td>  3</td><td> 9</td><td>14</td><td>625</td><td> 80</td><td>100</td><td>123</td><td>122</td><td>120</td><td> 80</td><td>1</td><td>20</td><td>2</td></tr>\n",
              "\t<tr><th scope=row>7</th><td>  6</td><td> 6</td><td> 8</td><td>534</td><td> 78</td><td> 84</td><td> 78</td><td>109</td><td> 85</td><td>100</td><td>1</td><td> 9</td><td>1</td></tr>\n",
              "\t<tr><th scope=row>19</th><td> 15</td><td> 0</td><td>14</td><td>395</td><td> 65</td><td> 90</td><td> 40</td><td> 45</td><td> 80</td><td> 75</td><td>1</td><td> 8</td><td>1</td></tr>\n",
              "\t<tr><th scope=row>27</th><td> 21</td><td>12</td><td> 8</td><td>262</td><td> 40</td><td> 60</td><td> 30</td><td> 31</td><td> 31</td><td> 70</td><td>1</td><td> 7</td><td>1</td></tr>\n",
              "\t<tr><th scope=row>35</th><td> 29</td><td>13</td><td> 0</td><td>275</td><td> 55</td><td> 47</td><td> 52</td><td> 40</td><td> 40</td><td> 41</td><td>1</td><td> 8</td><td>1</td></tr>\n",
              "\t<tr><th scope=row>43</th><td> 37</td><td> 6</td><td> 0</td><td>299</td><td> 38</td><td> 41</td><td> 40</td><td> 50</td><td> 65</td><td> 65</td><td>1</td><td> 6</td><td>1</td></tr>\n",
              "\t<tr><th scope=row>46</th><td> 40</td><td>12</td><td> 5</td><td>435</td><td>140</td><td> 70</td><td> 45</td><td> 85</td><td> 50</td><td> 45</td><td>1</td><td>10</td><td>2</td></tr>\n",
              "\t<tr><th scope=row>50</th><td> 44</td><td> 9</td><td>14</td><td>395</td><td> 60</td><td> 65</td><td> 70</td><td> 85</td><td> 75</td><td> 40</td><td>1</td><td> 5</td><td>1</td></tr>\n",
              "\t<tr><th scope=row>56</th><td> 50</td><td>10</td><td> 0</td><td>265</td><td> 10</td><td> 55</td><td> 25</td><td> 35</td><td> 45</td><td> 95</td><td>1</td><td> 7</td><td>1</td></tr>\n",
              "\t<tr><th scope=row>58</th><td> 52</td><td>12</td><td> 0</td><td>290</td><td> 40</td><td> 45</td><td> 35</td><td> 40</td><td> 40</td><td> 90</td><td>1</td><td> 6</td><td>1</td></tr>\n",
              "\t<tr><th scope=row>66</th><td> 60</td><td>17</td><td> 0</td><td>300</td><td> 40</td><td> 50</td><td> 40</td><td> 40</td><td> 40</td><td> 90</td><td>1</td><td> 7</td><td>1</td></tr>\n",
              "\t<tr><th scope=row>71</th><td> 65</td><td>14</td><td> 0</td><td>500</td><td> 55</td><td> 50</td><td> 45</td><td>135</td><td> 95</td><td>120</td><td>1</td><td> 8</td><td>1</td></tr>\n",
              "\t<tr><th scope=row>74</th><td> 67</td><td> 5</td><td> 0</td><td>405</td><td> 80</td><td>100</td><td> 70</td><td> 50</td><td> 60</td><td> 45</td><td>1</td><td> 7</td><td>1</td></tr>\n",
              "\t<tr><th scope=row>78</th><td> 71</td><td> 9</td><td>14</td><td>490</td><td> 80</td><td>105</td><td> 65</td><td>100</td><td> 70</td><td> 70</td><td>1</td><td>10</td><td>2</td></tr>\n",
              "\t<tr><th scope=row>87</th><td> 80</td><td>17</td><td>15</td><td>490</td><td> 95</td><td> 75</td><td>110</td><td>100</td><td> 80</td><td> 30</td><td>1</td><td> 7</td><td>1</td></tr>\n",
              "\t<tr><th scope=row>89</th><td> 81</td><td> 3</td><td>17</td><td>325</td><td> 25</td><td> 35</td><td> 70</td><td> 95</td><td> 55</td><td> 45</td><td>1</td><td> 9</td><td>1</td></tr>\n",
              "\t<tr><th scope=row>91</th><td> 83</td><td>12</td><td> 8</td><td>352</td><td> 52</td><td> 65</td><td> 55</td><td> 58</td><td> 62</td><td> 60</td><td>1</td><td>10</td><td>2</td></tr>\n",
              "\t<tr><th scope=row>93</th><td> 85</td><td>12</td><td> 8</td><td>460</td><td> 60</td><td>110</td><td> 70</td><td> 60</td><td> 60</td><td>100</td><td>1</td><td> 6</td><td>1</td></tr>\n",
              "\t<tr><th scope=row>95</th><td> 87</td><td>17</td><td>12</td><td>475</td><td> 90</td><td> 70</td><td> 80</td><td> 70</td><td> 95</td><td> 70</td><td>1</td><td> 7</td><td>1</td></tr>\n",
              "\t<tr><th scope=row>105</th><td> 96</td><td>14</td><td> 0</td><td>328</td><td> 60</td><td> 48</td><td> 45</td><td> 43</td><td> 90</td><td> 42</td><td>1</td><td> 7</td><td>1</td></tr>\n",
              "\t<tr><th scope=row>108</th><td> 99</td><td>17</td><td> 0</td><td>475</td><td> 55</td><td>130</td><td>115</td><td> 50</td><td> 50</td><td> 75</td><td>1</td><td> 7</td><td>1</td></tr>\n",
              "\t<tr><th scope=row>110</th><td>101</td><td> 3</td><td> 0</td><td>480</td><td> 60</td><td> 50</td><td> 70</td><td> 80</td><td> 80</td><td>140</td><td>1</td><td> 9</td><td>1</td></tr>\n",
              "\t<tr><th scope=row>118</th><td>109</td><td>13</td><td> 0</td><td>340</td><td> 40</td><td> 65</td><td> 95</td><td> 60</td><td> 45</td><td> 35</td><td>1</td><td> 7</td><td>1</td></tr>\n",
              "\t<tr><th scope=row>122</th><td>113</td><td>12</td><td> 0</td><td>450</td><td>250</td><td>  5</td><td>  5</td><td> 35</td><td>105</td><td> 50</td><td>1</td><td> 7</td><td>1</td></tr>\n",
              "\t<tr><th scope=row>124</th><td>115</td><td>12</td><td> 0</td><td>490</td><td>105</td><td> 95</td><td> 80</td><td> 40</td><td> 80</td><td> 90</td><td>1</td><td>10</td><td>2</td></tr>\n",
              "\t<tr><th scope=row>128</th><td>118</td><td>17</td><td> 0</td><td>320</td><td> 45</td><td> 67</td><td> 60</td><td> 35</td><td> 50</td><td> 63</td><td>1</td><td> 7</td><td>1</td></tr>\n",
              "\t<tr><th scope=row>143</th><td>131</td><td>17</td><td>12</td><td>535</td><td>130</td><td> 85</td><td> 80</td><td> 85</td><td> 95</td><td> 60</td><td>1</td><td> 6</td><td>1</td></tr>\n",
              "\t<tr><th scope=row>153</th><td>141</td><td>15</td><td>18</td><td>495</td><td> 60</td><td>115</td><td>105</td><td> 65</td><td> 70</td><td> 80</td><td>1</td><td> 8</td><td>1</td></tr>\n",
              "\t<tr><th scope=row>163</th><td>150</td><td>14</td><td> 0</td><td>680</td><td>106</td><td>110</td><td> 90</td><td>154</td><td> 90</td><td>130</td><td>1</td><td> 6</td><td>1</td></tr>\n",
              "\t<tr><th scope=row>⋮</th><td>⋮</td><td>⋮</td><td>⋮</td><td>⋮</td><td>⋮</td><td>⋮</td><td>⋮</td><td>⋮</td><td>⋮</td><td>⋮</td><td>⋮</td><td>⋮</td><td>⋮</td></tr>\n",
              "\t<tr><th scope=row>661</th><td>599</td><td>16</td><td> 0</td><td>300</td><td> 40</td><td> 55</td><td> 70</td><td> 45</td><td> 60</td><td> 30</td><td>5</td><td> 5</td><td>1</td></tr>\n",
              "\t<tr><th scope=row>662</th><td>600</td><td>16</td><td> 0</td><td>440</td><td> 60</td><td> 80</td><td> 95</td><td> 70</td><td> 85</td><td> 50</td><td>5</td><td> 5</td><td>1</td></tr>\n",
              "\t<tr><th scope=row>663</th><td>601</td><td>16</td><td> 0</td><td>520</td><td> 60</td><td>100</td><td>115</td><td> 70</td><td> 85</td><td> 90</td><td>5</td><td> 9</td><td>1</td></tr>\n",
              "\t<tr><th scope=row>665</th><td>603</td><td> 3</td><td> 0</td><td>405</td><td> 65</td><td> 85</td><td> 70</td><td> 75</td><td> 70</td><td> 40</td><td>5</td><td> 9</td><td>1</td></tr>\n",
              "\t<tr><th scope=row>666</th><td>604</td><td> 3</td><td> 0</td><td>515</td><td> 85</td><td>115</td><td> 80</td><td>105</td><td> 80</td><td> 50</td><td>5</td><td>10</td><td>2</td></tr>\n",
              "\t<tr><th scope=row>667</th><td>605</td><td>14</td><td> 0</td><td>335</td><td> 55</td><td> 55</td><td> 55</td><td> 85</td><td> 55</td><td> 30</td><td>5</td><td> 6</td><td>1</td></tr>\n",
              "\t<tr><th scope=row>668</th><td>606</td><td>14</td><td> 0</td><td>485</td><td> 75</td><td> 75</td><td> 75</td><td>125</td><td> 95</td><td> 40</td><td>5</td><td> 8</td><td>1</td></tr>\n",
              "\t<tr><th scope=row>671</th><td>609</td><td> 8</td><td> 7</td><td>520</td><td> 60</td><td> 55</td><td> 90</td><td>145</td><td> 90</td><td> 80</td><td>5</td><td>10</td><td>2</td></tr>\n",
              "\t<tr><th scope=row>673</th><td>611</td><td> 2</td><td> 0</td><td>410</td><td> 66</td><td>117</td><td> 70</td><td> 40</td><td> 50</td><td> 67</td><td>5</td><td> 7</td><td>1</td></tr>\n",
              "\t<tr><th scope=row>683</th><td>621</td><td> 2</td><td> 0</td><td>485</td><td> 77</td><td>120</td><td> 90</td><td> 60</td><td> 90</td><td> 48</td><td>5</td><td> 9</td><td>1</td></tr>\n",
              "\t<tr><th scope=row>696</th><td>634</td><td> 1</td><td> 3</td><td>420</td><td> 72</td><td> 85</td><td> 70</td><td> 65</td><td> 70</td><td> 58</td><td>5</td><td> 8</td><td>1</td></tr>\n",
              "\t<tr><th scope=row>697</th><td>635</td><td> 1</td><td> 3</td><td>600</td><td> 92</td><td>105</td><td> 90</td><td>125</td><td> 90</td><td> 98</td><td>5</td><td> 9</td><td>1</td></tr>\n",
              "\t<tr><th scope=row>698</th><td>636</td><td> 0</td><td> 7</td><td>360</td><td> 55</td><td> 85</td><td> 55</td><td> 50</td><td> 55</td><td> 60</td><td>5</td><td> 8</td><td>1</td></tr>\n",
              "\t<tr><th scope=row>702</th><td>640</td><td> 9</td><td> 6</td><td>580</td><td> 91</td><td> 90</td><td> 72</td><td> 90</td><td>129</td><td>108</td><td>5</td><td> 8</td><td>1</td></tr>\n",
              "\t<tr><th scope=row>711</th><td>646</td><td> 2</td><td>12</td><td>660</td><td>125</td><td>130</td><td> 90</td><td>130</td><td> 90</td><td> 95</td><td>5</td><td> 6</td><td>1</td></tr>\n",
              "\t<tr><th scope=row>715</th><td>647</td><td>17</td><td> 6</td><td>580</td><td> 91</td><td> 72</td><td> 90</td><td>129</td><td> 90</td><td>108</td><td>5</td><td>19</td><td>2</td></tr>\n",
              "\t<tr><th scope=row>717</th><td>648</td><td>12</td><td> 6</td><td>600</td><td>100</td><td>128</td><td> 90</td><td> 77</td><td> 77</td><td>128</td><td>5</td><td>22</td><td>2</td></tr>\n",
              "\t<tr><th scope=row>718</th><td>649</td><td> 0</td><td>17</td><td>600</td><td> 71</td><td>120</td><td> 95</td><td>120</td><td> 95</td><td> 99</td><td>5</td><td> 8</td><td>1</td></tr>\n",
              "\t<tr><th scope=row>731</th><td>662</td><td> 6</td><td> 8</td><td>382</td><td> 62</td><td> 73</td><td> 55</td><td> 56</td><td> 52</td><td> 84</td><td>6</td><td>11</td><td>2</td></tr>\n",
              "\t<tr><th scope=row>732</th><td>663</td><td> 6</td><td> 8</td><td>499</td><td> 78</td><td> 81</td><td> 71</td><td> 74</td><td> 69</td><td>126</td><td>6</td><td>10</td><td>2</td></tr>\n",
              "\t<tr><th scope=row>733</th><td>664</td><td> 0</td><td> 0</td><td>200</td><td> 38</td><td> 35</td><td> 40</td><td> 27</td><td> 25</td><td> 35</td><td>6</td><td>10</td><td>2</td></tr>\n",
              "\t<tr><th scope=row>749</th><td>679</td><td>16</td><td> 9</td><td>325</td><td> 45</td><td> 80</td><td>100</td><td> 35</td><td> 37</td><td> 28</td><td>6</td><td> 7</td><td>1</td></tr>\n",
              "\t<tr><th scope=row>752</th><td>681</td><td>16</td><td> 9</td><td>520</td><td> 60</td><td> 50</td><td>150</td><td> 50</td><td>150</td><td> 60</td><td>6</td><td>20</td><td>2</td></tr>\n",
              "\t<tr><th scope=row>760</th><td>689</td><td>15</td><td>18</td><td>500</td><td> 72</td><td>105</td><td>115</td><td> 54</td><td> 86</td><td> 68</td><td>6</td><td>10</td><td>2</td></tr>\n",
              "\t<tr><th scope=row>765</th><td>694</td><td> 3</td><td>13</td><td>289</td><td> 44</td><td> 38</td><td> 33</td><td> 61</td><td> 43</td><td> 70</td><td>6</td><td>10</td><td>2</td></tr>\n",
              "\t<tr><th scope=row>769</th><td>698</td><td>15</td><td>12</td><td>362</td><td> 77</td><td> 59</td><td> 50</td><td> 67</td><td> 63</td><td> 46</td><td>6</td><td> 6</td><td>1</td></tr>\n",
              "\t<tr><th scope=row>789</th><td>712</td><td>11</td><td> 0</td><td>304</td><td> 55</td><td> 69</td><td> 85</td><td> 32</td><td> 35</td><td> 28</td><td>6</td><td> 8</td><td>1</td></tr>\n",
              "\t<tr><th scope=row>794</th><td>717</td><td> 1</td><td> 8</td><td>680</td><td>126</td><td>131</td><td> 95</td><td>131</td><td> 98</td><td> 99</td><td>6</td><td> 7</td><td>1</td></tr>\n",
              "\t<tr><th scope=row>799</th><td>720</td><td>14</td><td> 2</td><td>680</td><td> 80</td><td>160</td><td> 60</td><td>170</td><td>130</td><td> 80</td><td>6</td><td>17</td><td>2</td></tr>\n",
              "\t<tr><th scope=row>800</th><td>721</td><td> 6</td><td>18</td><td>600</td><td> 80</td><td>110</td><td>120</td><td>130</td><td> 90</td><td> 70</td><td>6</td><td> 9</td><td>1</td></tr>\n",
              "</tbody>\n",
              "</table>\n"
            ],
            "text/latex": [
              "A data.frame: 160 × 13\n",
              "\\begin{tabular}{r|lllllllllllll}\n",
              "  & X. & Type.1 & Type.2 & Total & HP & Attack & Defense & Sp..Atk & Sp..Def & Speed & Generation & name\\_count & long\\_name\\\\\n",
              "  & <int> & <dbl> & <dbl> & <int> & <int> & <int> & <int> & <int> & <int> & <int> & <int> & <int> & <dbl>\\\\\n",
              "\\hline\n",
              "\t3 &   3 &  9 & 14 & 525 &  80 &  82 &  83 & 100 & 100 &  80 & 1 &  8 & 1\\\\\n",
              "\t4 &   3 &  9 & 14 & 625 &  80 & 100 & 123 & 122 & 120 &  80 & 1 & 20 & 2\\\\\n",
              "\t7 &   6 &  6 &  8 & 534 &  78 &  84 &  78 & 109 &  85 & 100 & 1 &  9 & 1\\\\\n",
              "\t19 &  15 &  0 & 14 & 395 &  65 &  90 &  40 &  45 &  80 &  75 & 1 &  8 & 1\\\\\n",
              "\t27 &  21 & 12 &  8 & 262 &  40 &  60 &  30 &  31 &  31 &  70 & 1 &  7 & 1\\\\\n",
              "\t35 &  29 & 13 &  0 & 275 &  55 &  47 &  52 &  40 &  40 &  41 & 1 &  8 & 1\\\\\n",
              "\t43 &  37 &  6 &  0 & 299 &  38 &  41 &  40 &  50 &  65 &  65 & 1 &  6 & 1\\\\\n",
              "\t46 &  40 & 12 &  5 & 435 & 140 &  70 &  45 &  85 &  50 &  45 & 1 & 10 & 2\\\\\n",
              "\t50 &  44 &  9 & 14 & 395 &  60 &  65 &  70 &  85 &  75 &  40 & 1 &  5 & 1\\\\\n",
              "\t56 &  50 & 10 &  0 & 265 &  10 &  55 &  25 &  35 &  45 &  95 & 1 &  7 & 1\\\\\n",
              "\t58 &  52 & 12 &  0 & 290 &  40 &  45 &  35 &  40 &  40 &  90 & 1 &  6 & 1\\\\\n",
              "\t66 &  60 & 17 &  0 & 300 &  40 &  50 &  40 &  40 &  40 &  90 & 1 &  7 & 1\\\\\n",
              "\t71 &  65 & 14 &  0 & 500 &  55 &  50 &  45 & 135 &  95 & 120 & 1 &  8 & 1\\\\\n",
              "\t74 &  67 &  5 &  0 & 405 &  80 & 100 &  70 &  50 &  60 &  45 & 1 &  7 & 1\\\\\n",
              "\t78 &  71 &  9 & 14 & 490 &  80 & 105 &  65 & 100 &  70 &  70 & 1 & 10 & 2\\\\\n",
              "\t87 &  80 & 17 & 15 & 490 &  95 &  75 & 110 & 100 &  80 &  30 & 1 &  7 & 1\\\\\n",
              "\t89 &  81 &  3 & 17 & 325 &  25 &  35 &  70 &  95 &  55 &  45 & 1 &  9 & 1\\\\\n",
              "\t91 &  83 & 12 &  8 & 352 &  52 &  65 &  55 &  58 &  62 &  60 & 1 & 10 & 2\\\\\n",
              "\t93 &  85 & 12 &  8 & 460 &  60 & 110 &  70 &  60 &  60 & 100 & 1 &  6 & 1\\\\\n",
              "\t95 &  87 & 17 & 12 & 475 &  90 &  70 &  80 &  70 &  95 &  70 & 1 &  7 & 1\\\\\n",
              "\t105 &  96 & 14 &  0 & 328 &  60 &  48 &  45 &  43 &  90 &  42 & 1 &  7 & 1\\\\\n",
              "\t108 &  99 & 17 &  0 & 475 &  55 & 130 & 115 &  50 &  50 &  75 & 1 &  7 & 1\\\\\n",
              "\t110 & 101 &  3 &  0 & 480 &  60 &  50 &  70 &  80 &  80 & 140 & 1 &  9 & 1\\\\\n",
              "\t118 & 109 & 13 &  0 & 340 &  40 &  65 &  95 &  60 &  45 &  35 & 1 &  7 & 1\\\\\n",
              "\t122 & 113 & 12 &  0 & 450 & 250 &   5 &   5 &  35 & 105 &  50 & 1 &  7 & 1\\\\\n",
              "\t124 & 115 & 12 &  0 & 490 & 105 &  95 &  80 &  40 &  80 &  90 & 1 & 10 & 2\\\\\n",
              "\t128 & 118 & 17 &  0 & 320 &  45 &  67 &  60 &  35 &  50 &  63 & 1 &  7 & 1\\\\\n",
              "\t143 & 131 & 17 & 12 & 535 & 130 &  85 &  80 &  85 &  95 &  60 & 1 &  6 & 1\\\\\n",
              "\t153 & 141 & 15 & 18 & 495 &  60 & 115 & 105 &  65 &  70 &  80 & 1 &  8 & 1\\\\\n",
              "\t163 & 150 & 14 &  0 & 680 & 106 & 110 &  90 & 154 &  90 & 130 & 1 &  6 & 1\\\\\n",
              "\t⋮ & ⋮ & ⋮ & ⋮ & ⋮ & ⋮ & ⋮ & ⋮ & ⋮ & ⋮ & ⋮ & ⋮ & ⋮ & ⋮\\\\\n",
              "\t661 & 599 & 16 &  0 & 300 &  40 &  55 &  70 &  45 &  60 &  30 & 5 &  5 & 1\\\\\n",
              "\t662 & 600 & 16 &  0 & 440 &  60 &  80 &  95 &  70 &  85 &  50 & 5 &  5 & 1\\\\\n",
              "\t663 & 601 & 16 &  0 & 520 &  60 & 100 & 115 &  70 &  85 &  90 & 5 &  9 & 1\\\\\n",
              "\t665 & 603 &  3 &  0 & 405 &  65 &  85 &  70 &  75 &  70 &  40 & 5 &  9 & 1\\\\\n",
              "\t666 & 604 &  3 &  0 & 515 &  85 & 115 &  80 & 105 &  80 &  50 & 5 & 10 & 2\\\\\n",
              "\t667 & 605 & 14 &  0 & 335 &  55 &  55 &  55 &  85 &  55 &  30 & 5 &  6 & 1\\\\\n",
              "\t668 & 606 & 14 &  0 & 485 &  75 &  75 &  75 & 125 &  95 &  40 & 5 &  8 & 1\\\\\n",
              "\t671 & 609 &  8 &  7 & 520 &  60 &  55 &  90 & 145 &  90 &  80 & 5 & 10 & 2\\\\\n",
              "\t673 & 611 &  2 &  0 & 410 &  66 & 117 &  70 &  40 &  50 &  67 & 5 &  7 & 1\\\\\n",
              "\t683 & 621 &  2 &  0 & 485 &  77 & 120 &  90 &  60 &  90 &  48 & 5 &  9 & 1\\\\\n",
              "\t696 & 634 &  1 &  3 & 420 &  72 &  85 &  70 &  65 &  70 &  58 & 5 &  8 & 1\\\\\n",
              "\t697 & 635 &  1 &  3 & 600 &  92 & 105 &  90 & 125 &  90 &  98 & 5 &  9 & 1\\\\\n",
              "\t698 & 636 &  0 &  7 & 360 &  55 &  85 &  55 &  50 &  55 &  60 & 5 &  8 & 1\\\\\n",
              "\t702 & 640 &  9 &  6 & 580 &  91 &  90 &  72 &  90 & 129 & 108 & 5 &  8 & 1\\\\\n",
              "\t711 & 646 &  2 & 12 & 660 & 125 & 130 &  90 & 130 &  90 &  95 & 5 &  6 & 1\\\\\n",
              "\t715 & 647 & 17 &  6 & 580 &  91 &  72 &  90 & 129 &  90 & 108 & 5 & 19 & 2\\\\\n",
              "\t717 & 648 & 12 &  6 & 600 & 100 & 128 &  90 &  77 &  77 & 128 & 5 & 22 & 2\\\\\n",
              "\t718 & 649 &  0 & 17 & 600 &  71 & 120 &  95 & 120 &  95 &  99 & 5 &  8 & 1\\\\\n",
              "\t731 & 662 &  6 &  8 & 382 &  62 &  73 &  55 &  56 &  52 &  84 & 6 & 11 & 2\\\\\n",
              "\t732 & 663 &  6 &  8 & 499 &  78 &  81 &  71 &  74 &  69 & 126 & 6 & 10 & 2\\\\\n",
              "\t733 & 664 &  0 &  0 & 200 &  38 &  35 &  40 &  27 &  25 &  35 & 6 & 10 & 2\\\\\n",
              "\t749 & 679 & 16 &  9 & 325 &  45 &  80 & 100 &  35 &  37 &  28 & 6 &  7 & 1\\\\\n",
              "\t752 & 681 & 16 &  9 & 520 &  60 &  50 & 150 &  50 & 150 &  60 & 6 & 20 & 2\\\\\n",
              "\t760 & 689 & 15 & 18 & 500 &  72 & 105 & 115 &  54 &  86 &  68 & 6 & 10 & 2\\\\\n",
              "\t765 & 694 &  3 & 13 & 289 &  44 &  38 &  33 &  61 &  43 &  70 & 6 & 10 & 2\\\\\n",
              "\t769 & 698 & 15 & 12 & 362 &  77 &  59 &  50 &  67 &  63 &  46 & 6 &  6 & 1\\\\\n",
              "\t789 & 712 & 11 &  0 & 304 &  55 &  69 &  85 &  32 &  35 &  28 & 6 &  8 & 1\\\\\n",
              "\t794 & 717 &  1 &  8 & 680 & 126 & 131 &  95 & 131 &  98 &  99 & 6 &  7 & 1\\\\\n",
              "\t799 & 720 & 14 &  2 & 680 &  80 & 160 &  60 & 170 & 130 &  80 & 6 & 17 & 2\\\\\n",
              "\t800 & 721 &  6 & 18 & 600 &  80 & 110 & 120 & 130 &  90 &  70 & 6 &  9 & 1\\\\\n",
              "\\end{tabular}\n"
            ],
            "text/markdown": [
              "\n",
              "A data.frame: 160 × 13\n",
              "\n",
              "| <!--/--> | X. &lt;int&gt; | Type.1 &lt;dbl&gt; | Type.2 &lt;dbl&gt; | Total &lt;int&gt; | HP &lt;int&gt; | Attack &lt;int&gt; | Defense &lt;int&gt; | Sp..Atk &lt;int&gt; | Sp..Def &lt;int&gt; | Speed &lt;int&gt; | Generation &lt;int&gt; | name_count &lt;int&gt; | long_name &lt;dbl&gt; |\n",
              "|---|---|---|---|---|---|---|---|---|---|---|---|---|---|\n",
              "| 3 |   3 |  9 | 14 | 525 |  80 |  82 |  83 | 100 | 100 |  80 | 1 |  8 | 1 |\n",
              "| 4 |   3 |  9 | 14 | 625 |  80 | 100 | 123 | 122 | 120 |  80 | 1 | 20 | 2 |\n",
              "| 7 |   6 |  6 |  8 | 534 |  78 |  84 |  78 | 109 |  85 | 100 | 1 |  9 | 1 |\n",
              "| 19 |  15 |  0 | 14 | 395 |  65 |  90 |  40 |  45 |  80 |  75 | 1 |  8 | 1 |\n",
              "| 27 |  21 | 12 |  8 | 262 |  40 |  60 |  30 |  31 |  31 |  70 | 1 |  7 | 1 |\n",
              "| 35 |  29 | 13 |  0 | 275 |  55 |  47 |  52 |  40 |  40 |  41 | 1 |  8 | 1 |\n",
              "| 43 |  37 |  6 |  0 | 299 |  38 |  41 |  40 |  50 |  65 |  65 | 1 |  6 | 1 |\n",
              "| 46 |  40 | 12 |  5 | 435 | 140 |  70 |  45 |  85 |  50 |  45 | 1 | 10 | 2 |\n",
              "| 50 |  44 |  9 | 14 | 395 |  60 |  65 |  70 |  85 |  75 |  40 | 1 |  5 | 1 |\n",
              "| 56 |  50 | 10 |  0 | 265 |  10 |  55 |  25 |  35 |  45 |  95 | 1 |  7 | 1 |\n",
              "| 58 |  52 | 12 |  0 | 290 |  40 |  45 |  35 |  40 |  40 |  90 | 1 |  6 | 1 |\n",
              "| 66 |  60 | 17 |  0 | 300 |  40 |  50 |  40 |  40 |  40 |  90 | 1 |  7 | 1 |\n",
              "| 71 |  65 | 14 |  0 | 500 |  55 |  50 |  45 | 135 |  95 | 120 | 1 |  8 | 1 |\n",
              "| 74 |  67 |  5 |  0 | 405 |  80 | 100 |  70 |  50 |  60 |  45 | 1 |  7 | 1 |\n",
              "| 78 |  71 |  9 | 14 | 490 |  80 | 105 |  65 | 100 |  70 |  70 | 1 | 10 | 2 |\n",
              "| 87 |  80 | 17 | 15 | 490 |  95 |  75 | 110 | 100 |  80 |  30 | 1 |  7 | 1 |\n",
              "| 89 |  81 |  3 | 17 | 325 |  25 |  35 |  70 |  95 |  55 |  45 | 1 |  9 | 1 |\n",
              "| 91 |  83 | 12 |  8 | 352 |  52 |  65 |  55 |  58 |  62 |  60 | 1 | 10 | 2 |\n",
              "| 93 |  85 | 12 |  8 | 460 |  60 | 110 |  70 |  60 |  60 | 100 | 1 |  6 | 1 |\n",
              "| 95 |  87 | 17 | 12 | 475 |  90 |  70 |  80 |  70 |  95 |  70 | 1 |  7 | 1 |\n",
              "| 105 |  96 | 14 |  0 | 328 |  60 |  48 |  45 |  43 |  90 |  42 | 1 |  7 | 1 |\n",
              "| 108 |  99 | 17 |  0 | 475 |  55 | 130 | 115 |  50 |  50 |  75 | 1 |  7 | 1 |\n",
              "| 110 | 101 |  3 |  0 | 480 |  60 |  50 |  70 |  80 |  80 | 140 | 1 |  9 | 1 |\n",
              "| 118 | 109 | 13 |  0 | 340 |  40 |  65 |  95 |  60 |  45 |  35 | 1 |  7 | 1 |\n",
              "| 122 | 113 | 12 |  0 | 450 | 250 |   5 |   5 |  35 | 105 |  50 | 1 |  7 | 1 |\n",
              "| 124 | 115 | 12 |  0 | 490 | 105 |  95 |  80 |  40 |  80 |  90 | 1 | 10 | 2 |\n",
              "| 128 | 118 | 17 |  0 | 320 |  45 |  67 |  60 |  35 |  50 |  63 | 1 |  7 | 1 |\n",
              "| 143 | 131 | 17 | 12 | 535 | 130 |  85 |  80 |  85 |  95 |  60 | 1 |  6 | 1 |\n",
              "| 153 | 141 | 15 | 18 | 495 |  60 | 115 | 105 |  65 |  70 |  80 | 1 |  8 | 1 |\n",
              "| 163 | 150 | 14 |  0 | 680 | 106 | 110 |  90 | 154 |  90 | 130 | 1 |  6 | 1 |\n",
              "| ⋮ | ⋮ | ⋮ | ⋮ | ⋮ | ⋮ | ⋮ | ⋮ | ⋮ | ⋮ | ⋮ | ⋮ | ⋮ | ⋮ |\n",
              "| 661 | 599 | 16 |  0 | 300 |  40 |  55 |  70 |  45 |  60 |  30 | 5 |  5 | 1 |\n",
              "| 662 | 600 | 16 |  0 | 440 |  60 |  80 |  95 |  70 |  85 |  50 | 5 |  5 | 1 |\n",
              "| 663 | 601 | 16 |  0 | 520 |  60 | 100 | 115 |  70 |  85 |  90 | 5 |  9 | 1 |\n",
              "| 665 | 603 |  3 |  0 | 405 |  65 |  85 |  70 |  75 |  70 |  40 | 5 |  9 | 1 |\n",
              "| 666 | 604 |  3 |  0 | 515 |  85 | 115 |  80 | 105 |  80 |  50 | 5 | 10 | 2 |\n",
              "| 667 | 605 | 14 |  0 | 335 |  55 |  55 |  55 |  85 |  55 |  30 | 5 |  6 | 1 |\n",
              "| 668 | 606 | 14 |  0 | 485 |  75 |  75 |  75 | 125 |  95 |  40 | 5 |  8 | 1 |\n",
              "| 671 | 609 |  8 |  7 | 520 |  60 |  55 |  90 | 145 |  90 |  80 | 5 | 10 | 2 |\n",
              "| 673 | 611 |  2 |  0 | 410 |  66 | 117 |  70 |  40 |  50 |  67 | 5 |  7 | 1 |\n",
              "| 683 | 621 |  2 |  0 | 485 |  77 | 120 |  90 |  60 |  90 |  48 | 5 |  9 | 1 |\n",
              "| 696 | 634 |  1 |  3 | 420 |  72 |  85 |  70 |  65 |  70 |  58 | 5 |  8 | 1 |\n",
              "| 697 | 635 |  1 |  3 | 600 |  92 | 105 |  90 | 125 |  90 |  98 | 5 |  9 | 1 |\n",
              "| 698 | 636 |  0 |  7 | 360 |  55 |  85 |  55 |  50 |  55 |  60 | 5 |  8 | 1 |\n",
              "| 702 | 640 |  9 |  6 | 580 |  91 |  90 |  72 |  90 | 129 | 108 | 5 |  8 | 1 |\n",
              "| 711 | 646 |  2 | 12 | 660 | 125 | 130 |  90 | 130 |  90 |  95 | 5 |  6 | 1 |\n",
              "| 715 | 647 | 17 |  6 | 580 |  91 |  72 |  90 | 129 |  90 | 108 | 5 | 19 | 2 |\n",
              "| 717 | 648 | 12 |  6 | 600 | 100 | 128 |  90 |  77 |  77 | 128 | 5 | 22 | 2 |\n",
              "| 718 | 649 |  0 | 17 | 600 |  71 | 120 |  95 | 120 |  95 |  99 | 5 |  8 | 1 |\n",
              "| 731 | 662 |  6 |  8 | 382 |  62 |  73 |  55 |  56 |  52 |  84 | 6 | 11 | 2 |\n",
              "| 732 | 663 |  6 |  8 | 499 |  78 |  81 |  71 |  74 |  69 | 126 | 6 | 10 | 2 |\n",
              "| 733 | 664 |  0 |  0 | 200 |  38 |  35 |  40 |  27 |  25 |  35 | 6 | 10 | 2 |\n",
              "| 749 | 679 | 16 |  9 | 325 |  45 |  80 | 100 |  35 |  37 |  28 | 6 |  7 | 1 |\n",
              "| 752 | 681 | 16 |  9 | 520 |  60 |  50 | 150 |  50 | 150 |  60 | 6 | 20 | 2 |\n",
              "| 760 | 689 | 15 | 18 | 500 |  72 | 105 | 115 |  54 |  86 |  68 | 6 | 10 | 2 |\n",
              "| 765 | 694 |  3 | 13 | 289 |  44 |  38 |  33 |  61 |  43 |  70 | 6 | 10 | 2 |\n",
              "| 769 | 698 | 15 | 12 | 362 |  77 |  59 |  50 |  67 |  63 |  46 | 6 |  6 | 1 |\n",
              "| 789 | 712 | 11 |  0 | 304 |  55 |  69 |  85 |  32 |  35 |  28 | 6 |  8 | 1 |\n",
              "| 794 | 717 |  1 |  8 | 680 | 126 | 131 |  95 | 131 |  98 |  99 | 6 |  7 | 1 |\n",
              "| 799 | 720 | 14 |  2 | 680 |  80 | 160 |  60 | 170 | 130 |  80 | 6 | 17 | 2 |\n",
              "| 800 | 721 |  6 | 18 | 600 |  80 | 110 | 120 | 130 |  90 |  70 | 6 |  9 | 1 |\n",
              "\n"
            ],
            "text/plain": [
              "    X.  Type.1 Type.2 Total HP  Attack Defense Sp..Atk Sp..Def Speed Generation\n",
              "3     3  9     14     525    80  82     83     100     100      80   1         \n",
              "4     3  9     14     625    80 100    123     122     120      80   1         \n",
              "7     6  6      8     534    78  84     78     109      85     100   1         \n",
              "19   15  0     14     395    65  90     40      45      80      75   1         \n",
              "27   21 12      8     262    40  60     30      31      31      70   1         \n",
              "35   29 13      0     275    55  47     52      40      40      41   1         \n",
              "43   37  6      0     299    38  41     40      50      65      65   1         \n",
              "46   40 12      5     435   140  70     45      85      50      45   1         \n",
              "50   44  9     14     395    60  65     70      85      75      40   1         \n",
              "56   50 10      0     265    10  55     25      35      45      95   1         \n",
              "58   52 12      0     290    40  45     35      40      40      90   1         \n",
              "66   60 17      0     300    40  50     40      40      40      90   1         \n",
              "71   65 14      0     500    55  50     45     135      95     120   1         \n",
              "74   67  5      0     405    80 100     70      50      60      45   1         \n",
              "78   71  9     14     490    80 105     65     100      70      70   1         \n",
              "87   80 17     15     490    95  75    110     100      80      30   1         \n",
              "89   81  3     17     325    25  35     70      95      55      45   1         \n",
              "91   83 12      8     352    52  65     55      58      62      60   1         \n",
              "93   85 12      8     460    60 110     70      60      60     100   1         \n",
              "95   87 17     12     475    90  70     80      70      95      70   1         \n",
              "105  96 14      0     328    60  48     45      43      90      42   1         \n",
              "108  99 17      0     475    55 130    115      50      50      75   1         \n",
              "110 101  3      0     480    60  50     70      80      80     140   1         \n",
              "118 109 13      0     340    40  65     95      60      45      35   1         \n",
              "122 113 12      0     450   250   5      5      35     105      50   1         \n",
              "124 115 12      0     490   105  95     80      40      80      90   1         \n",
              "128 118 17      0     320    45  67     60      35      50      63   1         \n",
              "143 131 17     12     535   130  85     80      85      95      60   1         \n",
              "153 141 15     18     495    60 115    105      65      70      80   1         \n",
              "163 150 14      0     680   106 110     90     154      90     130   1         \n",
              "⋮   ⋮   ⋮      ⋮      ⋮     ⋮   ⋮      ⋮       ⋮       ⋮       ⋮     ⋮         \n",
              "661 599 16      0     300    40  55     70      45      60      30   5         \n",
              "662 600 16      0     440    60  80     95      70      85      50   5         \n",
              "663 601 16      0     520    60 100    115      70      85      90   5         \n",
              "665 603  3      0     405    65  85     70      75      70      40   5         \n",
              "666 604  3      0     515    85 115     80     105      80      50   5         \n",
              "667 605 14      0     335    55  55     55      85      55      30   5         \n",
              "668 606 14      0     485    75  75     75     125      95      40   5         \n",
              "671 609  8      7     520    60  55     90     145      90      80   5         \n",
              "673 611  2      0     410    66 117     70      40      50      67   5         \n",
              "683 621  2      0     485    77 120     90      60      90      48   5         \n",
              "696 634  1      3     420    72  85     70      65      70      58   5         \n",
              "697 635  1      3     600    92 105     90     125      90      98   5         \n",
              "698 636  0      7     360    55  85     55      50      55      60   5         \n",
              "702 640  9      6     580    91  90     72      90     129     108   5         \n",
              "711 646  2     12     660   125 130     90     130      90      95   5         \n",
              "715 647 17      6     580    91  72     90     129      90     108   5         \n",
              "717 648 12      6     600   100 128     90      77      77     128   5         \n",
              "718 649  0     17     600    71 120     95     120      95      99   5         \n",
              "731 662  6      8     382    62  73     55      56      52      84   6         \n",
              "732 663  6      8     499    78  81     71      74      69     126   6         \n",
              "733 664  0      0     200    38  35     40      27      25      35   6         \n",
              "749 679 16      9     325    45  80    100      35      37      28   6         \n",
              "752 681 16      9     520    60  50    150      50     150      60   6         \n",
              "760 689 15     18     500    72 105    115      54      86      68   6         \n",
              "765 694  3     13     289    44  38     33      61      43      70   6         \n",
              "769 698 15     12     362    77  59     50      67      63      46   6         \n",
              "789 712 11      0     304    55  69     85      32      35      28   6         \n",
              "794 717  1      8     680   126 131     95     131      98      99   6         \n",
              "799 720 14      2     680    80 160     60     170     130      80   6         \n",
              "800 721  6     18     600    80 110    120     130      90      70   6         \n",
              "    name_count long_name\n",
              "3    8         1        \n",
              "4   20         2        \n",
              "7    9         1        \n",
              "19   8         1        \n",
              "27   7         1        \n",
              "35   8         1        \n",
              "43   6         1        \n",
              "46  10         2        \n",
              "50   5         1        \n",
              "56   7         1        \n",
              "58   6         1        \n",
              "66   7         1        \n",
              "71   8         1        \n",
              "74   7         1        \n",
              "78  10         2        \n",
              "87   7         1        \n",
              "89   9         1        \n",
              "91  10         2        \n",
              "93   6         1        \n",
              "95   7         1        \n",
              "105  7         1        \n",
              "108  7         1        \n",
              "110  9         1        \n",
              "118  7         1        \n",
              "122  7         1        \n",
              "124 10         2        \n",
              "128  7         1        \n",
              "143  6         1        \n",
              "153  8         1        \n",
              "163  6         1        \n",
              "⋮   ⋮          ⋮        \n",
              "661  5         1        \n",
              "662  5         1        \n",
              "663  9         1        \n",
              "665  9         1        \n",
              "666 10         2        \n",
              "667  6         1        \n",
              "668  8         1        \n",
              "671 10         2        \n",
              "673  7         1        \n",
              "683  9         1        \n",
              "696  8         1        \n",
              "697  9         1        \n",
              "698  8         1        \n",
              "702  8         1        \n",
              "711  6         1        \n",
              "715 19         2        \n",
              "717 22         2        \n",
              "718  8         1        \n",
              "731 11         2        \n",
              "732 10         2        \n",
              "733 10         2        \n",
              "749  7         1        \n",
              "752 20         2        \n",
              "760 10         2        \n",
              "765 10         2        \n",
              "769  6         1        \n",
              "789  8         1        \n",
              "794  7         1        \n",
              "799 17         2        \n",
              "800  9         1        "
            ]
          },
          "metadata": {},
          "output_type": "display_data"
        }
      ],
      "source": [
        "X_test"
      ]
    },
    {
      "cell_type": "code",
      "execution_count": 55,
      "metadata": {
        "colab": {
          "base_uri": "https://localhost:8080/"
        },
        "id": "Tlj20C0wBdvL",
        "outputId": "b928bfe4-40e0-4fd2-feba-c6b9e80f3f92",
        "vscode": {
          "languageId": "r"
        }
      },
      "outputs": [
        {
          "name": "stderr",
          "output_type": "stream",
          "text": [
            "Installing package into ‘/usr/local/lib/R/site-library’\n",
            "(as ‘lib’ is unspecified)\n",
            "\n"
          ]
        }
      ],
      "source": [
        "install.packages(\"e1071\")\n",
        "library(e1071)\n"
      ]
    },
    {
      "cell_type": "code",
      "execution_count": 61,
      "metadata": {
        "colab": {
          "base_uri": "https://localhost:8080/"
        },
        "id": "VXhnZ8A_EJhX",
        "outputId": "7400e9ad-0137-477a-b575-9dd155a67e20",
        "vscode": {
          "languageId": "r"
        }
      },
      "outputs": [
        {
          "name": "stdout",
          "output_type": "stream",
          "text": [
            "  [1] 1 2 1 1 1 1 1 1 1 1 1 1 1 1 1 1 1 1 1 1 1 1 1 1 1 1 1 1 1 2 2 1 1 1 1 1 1\n",
            " [38] 1 1 2 1 1 1 1 1 1 1 1 1 1 1 1 1 1 2 1 1 1 1 2 1 1 2 1 1 1 1 1 1 1 1 2 1 1\n",
            " [75] 2 1 1 1 1 1 2 1 2 2 2 2 2 1 1 1 1 1 1 1 1 1 1 1 2 2 1 1 1 2 1 1 2 1 1 2 2\n",
            "[112] 2 2 1 1 1 1 1 1 2 1 1 1 1 1 1 1 1 1 1 1 1 1 1 1 1 1 1 1 1 1 2 1 2 2 2 2 2\n",
            "[149] 1 1 1 1 2 1 1 1 1 2 2 2\n",
            "Levels: 1 2\n"
          ]
        }
      ],
      "source": [
        "# Create a Gaussian Naive Bayes classifier and make predictions\n",
        "nb_model <- naiveBayes(Legendary ~ ., data = df, laplace = 0)\n",
        "nb_pred <- predict(nb_model, newdata = X_test)\n",
        "\n",
        "# Display the predictions\n",
        "print(nb_pred)"
      ]
    },
    {
      "cell_type": "code",
      "execution_count": 65,
      "metadata": {
        "colab": {
          "base_uri": "https://localhost:8080/"
        },
        "id": "guiqxK7kEOAw",
        "outputId": "238559bc-fda5-48cd-d204-0f4706533b5a",
        "vscode": {
          "languageId": "r"
        }
      },
      "outputs": [
        {
          "name": "stdout",
          "output_type": "stream",
          "text": [
            "      Predicted\n",
            "Actual   1   2\n",
            "     1 126  18\n",
            "     2   0  16\n"
          ]
        }
      ],
      "source": [
        "# Calculate confusion matrix\n",
        "conf_matrix <- table(Actual = Y_test, Predicted = nb_pred)\n",
        "print(conf_matrix)\n",
        "\n",
        "\n"
      ]
    },
    {
      "cell_type": "code",
      "execution_count": null,
      "metadata": {
        "id": "h4jfZnh2E6Fq",
        "vscode": {
          "languageId": "r"
        }
      },
      "outputs": [],
      "source": []
    }
  ],
  "metadata": {
    "colab": {
      "provenance": []
    },
    "kernelspec": {
      "display_name": "R",
      "name": "ir"
    },
    "language_info": {
      "name": "R"
    }
  },
  "nbformat": 4,
  "nbformat_minor": 0
}
